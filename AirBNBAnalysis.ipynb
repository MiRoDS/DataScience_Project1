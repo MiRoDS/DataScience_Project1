{
 "cells": [
  {
   "cell_type": "markdown",
   "metadata": {},
   "source": [
    "# Analysis of AirBNB data from Boston\n",
    "In this analysis, Boston AirBNB data from the listings.csv file downloaded from https://www.kaggle.com/airbnb/boston/data is analyzed according to the CRISP-DM process to answer some questions, mainly relevant for people offereing their accommendations.\n",
    "\n",
    "## 1. Business understanding\n",
    "AirBNB is a community based platform in which users can offer their private accommendations to other people. So the platform acts as a kind of broker. Users can earn money by renting their couch, their room, their flats or even a complete houses. Its is assumed that one reason to book a specific accommendation is - beside location, price, and amenities - the rating by other users. Here is shall be analyzed whether there are aspects that users can influence that are corrolated with a high rating.\n",
    "\n",
    "The following aspects are analyzed in 4. Modelling:\n",
    "1. Is there a relation between price and ratings?\n",
    "2. Is there a relation between neighborhoods and ratings and price?\n",
    "3. Is there a relation between the number of reviews and the rating? In other words: Is the distribution of ratings skewed?\n",
    "4. Is there a relation between amenities and rating?\n",
    "5. Is there a way to predict the rating based on the set of information?\n",
    "\n",
    "Some questions can be answered by directly looking into the dataset. Of course, it is expected that the overall experience during the stay at a location is the most crucial point for the rating. Nevertheless, it is checked here whether the the questions above indicate also other aspects."
   ]
  },
  {
   "cell_type": "markdown",
   "metadata": {},
   "source": [
    "## 2. Data understanding\n",
    "The data is loaded and a number of things are checked to understand the dataset."
   ]
  },
  {
   "cell_type": "code",
   "execution_count": 52,
   "metadata": {},
   "outputs": [
    {
     "data": {
      "text/html": [
       "<div>\n",
       "<style scoped>\n",
       "    .dataframe tbody tr th:only-of-type {\n",
       "        vertical-align: middle;\n",
       "    }\n",
       "\n",
       "    .dataframe tbody tr th {\n",
       "        vertical-align: top;\n",
       "    }\n",
       "\n",
       "    .dataframe thead th {\n",
       "        text-align: right;\n",
       "    }\n",
       "</style>\n",
       "<table border=\"1\" class=\"dataframe\">\n",
       "  <thead>\n",
       "    <tr style=\"text-align: right;\">\n",
       "      <th></th>\n",
       "      <th>id</th>\n",
       "      <th>listing_url</th>\n",
       "      <th>scrape_id</th>\n",
       "      <th>last_scraped</th>\n",
       "      <th>name</th>\n",
       "      <th>summary</th>\n",
       "      <th>space</th>\n",
       "      <th>description</th>\n",
       "      <th>experiences_offered</th>\n",
       "      <th>neighborhood_overview</th>\n",
       "      <th>...</th>\n",
       "      <th>review_scores_value</th>\n",
       "      <th>requires_license</th>\n",
       "      <th>license</th>\n",
       "      <th>jurisdiction_names</th>\n",
       "      <th>instant_bookable</th>\n",
       "      <th>cancellation_policy</th>\n",
       "      <th>require_guest_profile_picture</th>\n",
       "      <th>require_guest_phone_verification</th>\n",
       "      <th>calculated_host_listings_count</th>\n",
       "      <th>reviews_per_month</th>\n",
       "    </tr>\n",
       "  </thead>\n",
       "  <tbody>\n",
       "    <tr>\n",
       "      <th>0</th>\n",
       "      <td>12147973</td>\n",
       "      <td>https://www.airbnb.com/rooms/12147973</td>\n",
       "      <td>20160906204935</td>\n",
       "      <td>2016-09-07</td>\n",
       "      <td>Sunny Bungalow in the City</td>\n",
       "      <td>Cozy, sunny, family home.  Master bedroom high...</td>\n",
       "      <td>The house has an open and cozy feel at the sam...</td>\n",
       "      <td>Cozy, sunny, family home.  Master bedroom high...</td>\n",
       "      <td>none</td>\n",
       "      <td>Roslindale is quiet, convenient and friendly. ...</td>\n",
       "      <td>...</td>\n",
       "      <td>NaN</td>\n",
       "      <td>f</td>\n",
       "      <td>NaN</td>\n",
       "      <td>NaN</td>\n",
       "      <td>f</td>\n",
       "      <td>moderate</td>\n",
       "      <td>f</td>\n",
       "      <td>f</td>\n",
       "      <td>1</td>\n",
       "      <td>NaN</td>\n",
       "    </tr>\n",
       "    <tr>\n",
       "      <th>1</th>\n",
       "      <td>3075044</td>\n",
       "      <td>https://www.airbnb.com/rooms/3075044</td>\n",
       "      <td>20160906204935</td>\n",
       "      <td>2016-09-07</td>\n",
       "      <td>Charming room in pet friendly apt</td>\n",
       "      <td>Charming and quiet room in a second floor 1910...</td>\n",
       "      <td>Small but cozy and quite room with a full size...</td>\n",
       "      <td>Charming and quiet room in a second floor 1910...</td>\n",
       "      <td>none</td>\n",
       "      <td>The room is in Roslindale, a diverse and prima...</td>\n",
       "      <td>...</td>\n",
       "      <td>9.0</td>\n",
       "      <td>f</td>\n",
       "      <td>NaN</td>\n",
       "      <td>NaN</td>\n",
       "      <td>t</td>\n",
       "      <td>moderate</td>\n",
       "      <td>f</td>\n",
       "      <td>f</td>\n",
       "      <td>1</td>\n",
       "      <td>1.30</td>\n",
       "    </tr>\n",
       "    <tr>\n",
       "      <th>2</th>\n",
       "      <td>6976</td>\n",
       "      <td>https://www.airbnb.com/rooms/6976</td>\n",
       "      <td>20160906204935</td>\n",
       "      <td>2016-09-07</td>\n",
       "      <td>Mexican Folk Art Haven in Boston</td>\n",
       "      <td>Come stay with a friendly, middle-aged guy in ...</td>\n",
       "      <td>Come stay with a friendly, middle-aged guy in ...</td>\n",
       "      <td>Come stay with a friendly, middle-aged guy in ...</td>\n",
       "      <td>none</td>\n",
       "      <td>The LOCATION: Roslindale is a safe and diverse...</td>\n",
       "      <td>...</td>\n",
       "      <td>10.0</td>\n",
       "      <td>f</td>\n",
       "      <td>NaN</td>\n",
       "      <td>NaN</td>\n",
       "      <td>f</td>\n",
       "      <td>moderate</td>\n",
       "      <td>t</td>\n",
       "      <td>f</td>\n",
       "      <td>1</td>\n",
       "      <td>0.47</td>\n",
       "    </tr>\n",
       "    <tr>\n",
       "      <th>3</th>\n",
       "      <td>1436513</td>\n",
       "      <td>https://www.airbnb.com/rooms/1436513</td>\n",
       "      <td>20160906204935</td>\n",
       "      <td>2016-09-07</td>\n",
       "      <td>Spacious Sunny Bedroom Suite in Historic Home</td>\n",
       "      <td>Come experience the comforts of home away from...</td>\n",
       "      <td>Most places you find in Boston are small howev...</td>\n",
       "      <td>Come experience the comforts of home away from...</td>\n",
       "      <td>none</td>\n",
       "      <td>Roslindale is a lovely little neighborhood loc...</td>\n",
       "      <td>...</td>\n",
       "      <td>10.0</td>\n",
       "      <td>f</td>\n",
       "      <td>NaN</td>\n",
       "      <td>NaN</td>\n",
       "      <td>f</td>\n",
       "      <td>moderate</td>\n",
       "      <td>f</td>\n",
       "      <td>f</td>\n",
       "      <td>1</td>\n",
       "      <td>1.00</td>\n",
       "    </tr>\n",
       "    <tr>\n",
       "      <th>4</th>\n",
       "      <td>7651065</td>\n",
       "      <td>https://www.airbnb.com/rooms/7651065</td>\n",
       "      <td>20160906204935</td>\n",
       "      <td>2016-09-07</td>\n",
       "      <td>Come Home to Boston</td>\n",
       "      <td>My comfy, clean and relaxing home is one block...</td>\n",
       "      <td>Clean, attractive, private room, one block fro...</td>\n",
       "      <td>My comfy, clean and relaxing home is one block...</td>\n",
       "      <td>none</td>\n",
       "      <td>I love the proximity to downtown, the neighbor...</td>\n",
       "      <td>...</td>\n",
       "      <td>10.0</td>\n",
       "      <td>f</td>\n",
       "      <td>NaN</td>\n",
       "      <td>NaN</td>\n",
       "      <td>f</td>\n",
       "      <td>flexible</td>\n",
       "      <td>f</td>\n",
       "      <td>f</td>\n",
       "      <td>1</td>\n",
       "      <td>2.25</td>\n",
       "    </tr>\n",
       "  </tbody>\n",
       "</table>\n",
       "<p>5 rows × 95 columns</p>\n",
       "</div>"
      ],
      "text/plain": [
       "         id                            listing_url       scrape_id  \\\n",
       "0  12147973  https://www.airbnb.com/rooms/12147973  20160906204935   \n",
       "1   3075044   https://www.airbnb.com/rooms/3075044  20160906204935   \n",
       "2      6976      https://www.airbnb.com/rooms/6976  20160906204935   \n",
       "3   1436513   https://www.airbnb.com/rooms/1436513  20160906204935   \n",
       "4   7651065   https://www.airbnb.com/rooms/7651065  20160906204935   \n",
       "\n",
       "  last_scraped                                           name  \\\n",
       "0   2016-09-07                     Sunny Bungalow in the City   \n",
       "1   2016-09-07              Charming room in pet friendly apt   \n",
       "2   2016-09-07               Mexican Folk Art Haven in Boston   \n",
       "3   2016-09-07  Spacious Sunny Bedroom Suite in Historic Home   \n",
       "4   2016-09-07                            Come Home to Boston   \n",
       "\n",
       "                                             summary  \\\n",
       "0  Cozy, sunny, family home.  Master bedroom high...   \n",
       "1  Charming and quiet room in a second floor 1910...   \n",
       "2  Come stay with a friendly, middle-aged guy in ...   \n",
       "3  Come experience the comforts of home away from...   \n",
       "4  My comfy, clean and relaxing home is one block...   \n",
       "\n",
       "                                               space  \\\n",
       "0  The house has an open and cozy feel at the sam...   \n",
       "1  Small but cozy and quite room with a full size...   \n",
       "2  Come stay with a friendly, middle-aged guy in ...   \n",
       "3  Most places you find in Boston are small howev...   \n",
       "4  Clean, attractive, private room, one block fro...   \n",
       "\n",
       "                                         description experiences_offered  \\\n",
       "0  Cozy, sunny, family home.  Master bedroom high...                none   \n",
       "1  Charming and quiet room in a second floor 1910...                none   \n",
       "2  Come stay with a friendly, middle-aged guy in ...                none   \n",
       "3  Come experience the comforts of home away from...                none   \n",
       "4  My comfy, clean and relaxing home is one block...                none   \n",
       "\n",
       "                               neighborhood_overview  ... review_scores_value  \\\n",
       "0  Roslindale is quiet, convenient and friendly. ...  ...                 NaN   \n",
       "1  The room is in Roslindale, a diverse and prima...  ...                 9.0   \n",
       "2  The LOCATION: Roslindale is a safe and diverse...  ...                10.0   \n",
       "3  Roslindale is a lovely little neighborhood loc...  ...                10.0   \n",
       "4  I love the proximity to downtown, the neighbor...  ...                10.0   \n",
       "\n",
       "  requires_license license jurisdiction_names instant_bookable  \\\n",
       "0                f     NaN                NaN                f   \n",
       "1                f     NaN                NaN                t   \n",
       "2                f     NaN                NaN                f   \n",
       "3                f     NaN                NaN                f   \n",
       "4                f     NaN                NaN                f   \n",
       "\n",
       "  cancellation_policy require_guest_profile_picture  \\\n",
       "0            moderate                             f   \n",
       "1            moderate                             f   \n",
       "2            moderate                             t   \n",
       "3            moderate                             f   \n",
       "4            flexible                             f   \n",
       "\n",
       "  require_guest_phone_verification calculated_host_listings_count  \\\n",
       "0                                f                              1   \n",
       "1                                f                              1   \n",
       "2                                f                              1   \n",
       "3                                f                              1   \n",
       "4                                f                              1   \n",
       "\n",
       "   reviews_per_month  \n",
       "0                NaN  \n",
       "1               1.30  \n",
       "2               0.47  \n",
       "3               1.00  \n",
       "4               2.25  \n",
       "\n",
       "[5 rows x 95 columns]"
      ]
     },
     "execution_count": 52,
     "metadata": {},
     "output_type": "execute_result"
    }
   ],
   "source": [
    "import numpy as np\n",
    "from collections import defaultdict\n",
    "import pandas as pd\n",
    "import matplotlib.pyplot as plt\n",
    "from sklearn.linear_model import LinearRegression\n",
    "from sklearn.model_selection import train_test_split\n",
    "from sklearn.metrics import r2_score, mean_squared_error\n",
    "from IPython import display\n",
    "%matplotlib inline\n",
    "\n",
    "df = pd.read_csv('./listings.csv')\n",
    "df.head()"
   ]
  },
  {
   "cell_type": "markdown",
   "metadata": {},
   "source": [
    "### Determine the number of rows (entries for specifc accommendations) and columns (different features of the accommendations)"
   ]
  },
  {
   "cell_type": "code",
   "execution_count": 2,
   "metadata": {},
   "outputs": [
    {
     "name": "stdout",
     "output_type": "stream",
     "text": [
      "The dataset contains 3585 rows and 95 columns.\n"
     ]
    }
   ],
   "source": [
    "num_rows = df.shape[0] #Contains the number of rows in the dataset\n",
    "num_cols = df.shape[1] #Contains the number of columns in the dataset\n",
    "\n",
    "print('The dataset contains', num_rows, 'rows and', num_cols, 'columns.')"
   ]
  },
  {
   "cell_type": "markdown",
   "metadata": {},
   "source": [
    "### Check of the columns to find out which are important for this analysis and check their status\n",
    "The dataset contains many full text columns. They will not be considered here. It is assumed that neighborhood (the cleansed version), the property type, the room type, the accommodates, the bed type, the amenities, the price, the availability, the number of reviews, and of course the rating score itself play a role to answer the business questions above."
   ]
  },
  {
   "cell_type": "code",
   "execution_count": 3,
   "metadata": {},
   "outputs": [
    {
     "name": "stdout",
     "output_type": "stream",
     "text": [
      "{'scrape_id', 'host_name', 'bed_type', 'country', 'extra_people', 'name', 'host_is_superhost', 'availability_90', 'room_type', 'picture_url', 'description', 'availability_30', 'id', 'require_guest_profile_picture', 'street', 'host_thumbnail_url', 'guests_included', 'host_picture_url', 'host_total_listings_count', 'price', 'host_verifications', 'minimum_nights', 'availability_60', 'availability_365', 'host_identity_verified', 'smart_location', 'amenities', 'state', 'listing_url', 'host_id', 'host_has_profile_pic', 'experiences_offered', 'accommodates', 'cancellation_policy', 'host_url', 'maximum_nights', 'calculated_host_listings_count', 'host_listings_count', 'calendar_last_scraped', 'last_scraped', 'requires_license', 'calendar_updated', 'neighbourhood_cleansed', 'longitude', 'number_of_reviews', 'is_location_exact', 'country_code', 'instant_bookable', 'require_guest_phone_verification', 'latitude', 'host_since'}\n"
     ]
    }
   ],
   "source": [
    "no_nulls = set(df.columns[df.isnull().mean()==0])\n",
    "print(no_nulls)"
   ]
  },
  {
   "cell_type": "code",
   "execution_count": 4,
   "metadata": {},
   "outputs": [
    {
     "name": "stdout",
     "output_type": "stream",
     "text": [
      "{'square_feet', 'security_deposit', 'weekly_price', 'neighbourhood_group_cleansed', 'has_availability', 'license', 'jurisdiction_names', 'notes', 'monthly_price'}\n"
     ]
    }
   ],
   "source": [
    "most_missing_cols = set(df.columns[df.isnull().mean() > 0.5])\n",
    "print(most_missing_cols)"
   ]
  },
  {
   "cell_type": "code",
   "execution_count": 5,
   "metadata": {},
   "outputs": [
    {
     "name": "stdout",
     "output_type": "stream",
     "text": [
      "Jamaica Plain              343\n",
      "South End                  326\n",
      "Back Bay                   302\n",
      "Fenway                     290\n",
      "Dorchester                 269\n",
      "Allston                    260\n",
      "Beacon Hill                194\n",
      "Brighton                   185\n",
      "South Boston               174\n",
      "Downtown                   172\n",
      "East Boston                150\n",
      "Roxbury                    144\n",
      "North End                  143\n",
      "Mission Hill               124\n",
      "Charlestown                111\n",
      "South Boston Waterfront     83\n",
      "Chinatown                   71\n",
      "Roslindale                  56\n",
      "West End                    49\n",
      "West Roxbury                46\n",
      "Hyde Park                   31\n",
      "Mattapan                    24\n",
      "Bay Village                 24\n",
      "Longwood Medical Area        9\n",
      "Leather District             5\n",
      "Name: neighbourhood_cleansed, dtype: int64\n"
     ]
    }
   ],
   "source": [
    "neighbourhood=df['neighbourhood_cleansed'].value_counts()\n",
    "print(neighbourhood)"
   ]
  },
  {
   "cell_type": "code",
   "execution_count": 6,
   "metadata": {},
   "outputs": [
    {
     "name": "stdout",
     "output_type": "stream",
     "text": [
      "Apartment          2612\n",
      "House               562\n",
      "Condominium         231\n",
      "Townhouse            54\n",
      "Bed & Breakfast      41\n",
      "Loft                 39\n",
      "Other                17\n",
      "Boat                 12\n",
      "Villa                 6\n",
      "Entire Floor          4\n",
      "Dorm                  2\n",
      "Guesthouse            1\n",
      "Camper/RV             1\n",
      "Name: property_type, dtype: int64\n"
     ]
    }
   ],
   "source": [
    "property_type=df['property_type'].value_counts()\n",
    "print(property_type)"
   ]
  },
  {
   "cell_type": "code",
   "execution_count": 7,
   "metadata": {},
   "outputs": [
    {
     "name": "stdout",
     "output_type": "stream",
     "text": [
      "Entire home/apt    2127\n",
      "Private room       1378\n",
      "Shared room          80\n",
      "Name: room_type, dtype: int64\n"
     ]
    }
   ],
   "source": [
    "room_type=df['room_type'].value_counts()\n",
    "print(room_type)"
   ]
  },
  {
   "cell_type": "code",
   "execution_count": 8,
   "metadata": {},
   "outputs": [
    {
     "name": "stdout",
     "output_type": "stream",
     "text": [
      "Real Bed         3453\n",
      "Futon              51\n",
      "Airbed             40\n",
      "Pull-out Sofa      31\n",
      "Couch              10\n",
      "Name: bed_type, dtype: int64\n"
     ]
    }
   ],
   "source": [
    "bed_type=df['bed_type'].value_counts()\n",
    "print(bed_type)"
   ]
  },
  {
   "cell_type": "markdown",
   "metadata": {},
   "source": [
    "### Check the different amenties which are unfortunately not listed in specific columns: To this end, the code from \"Lession 1\" has been adapted to generate a plot showing the fraction of each amenty."
   ]
  },
  {
   "cell_type": "code",
   "execution_count": 9,
   "metadata": {},
   "outputs": [
    {
     "data": {
      "image/png": "[encoded data removed]",
      "text/plain": [
       "<Figure size 432x288 with 1 Axes>"
      ]
     },
     "metadata": {
      "needs_background": "light"
     },
     "output_type": "display_data"
    }
   ],
   "source": [
    "def total_count(df, col1, col2, look_for):\n",
    "    '''\n",
    "    INPUT:\n",
    "    df - the pandas dataframe you want to search\n",
    "    col1 - the column name you want to look through\n",
    "    col2 - the column you want to count values from\n",
    "    look_for - a list of strings you want to search for in each row of df[col]\n",
    "\n",
    "    OUTPUT:\n",
    "    new_df - a dataframe of each look_for with the count of how often it shows up\n",
    "    '''\n",
    "    new_df = defaultdict(int)\n",
    "    #loop through list of different types\n",
    "    for val in look_for:\n",
    "        #loop through rows\n",
    "        for idx in range(df.shape[0]):\n",
    "            #if the ed type is in the row add 1\n",
    "            if val in df[col1][idx]:\n",
    "                new_df[val] += int(df[col2][idx])\n",
    "    new_df = pd.DataFrame(pd.Series(new_df)).reset_index()\n",
    "    new_df.columns = [col1, col2]\n",
    "    new_df.sort_values('count', ascending=False, inplace=True)\n",
    "    return new_df\n",
    "\n",
    "possible_vals = [\"24-Hour Check-in\", \"Air Conditioning\", \"Breakfast\", \"Buzzer/Wireless Intercom\", \n",
    "                 \"Cable TV\", \"Carbon Monoxide Detector\", \"Cat(s)\", \"Dog(s)\", \"Doorman\", \",Dryer\",\n",
    "                 \"Elevator in Building\", \"Essentials\", \"Family/Kid Friendly\", \"Fire Extinguisher\",\n",
    "                 \"First Aid Kit\", \"Free Parking on Premises\", \"Free Parking on Street\", \"Gym\", \"Hangers\",\n",
    "                 \"Hair Dryer\", \"Heating\", \"Hot Tub\", \"Indoor Fireplace\", \"Internet,\", \"Iron\", \"Kitchen\",\n",
    "                 \"Laptop Friendly Workspace\", \"Lock on Bedroom Door\", \"Other pet(s)\", \"Paid Parking Off Premises\",\n",
    "                 \"Pets Allowed\", \"Pets live on this property\", \"Pool\", \"Safety Card\", \"Shampoo\", \"Smoke Detector\",\n",
    "                 \"Smoking Allowed\", \"Suitable for Events\", \"TV,\", \"Washer\", \"Wheelchair Accessible\",\n",
    "                 \"Wireless Internet\"]\n",
    "\n",
    "def clean_and_plot(df, title='Amenities', plot=True):\n",
    "    '''\n",
    "    INPUT \n",
    "        df - a dataframe holding the CousinEducation column\n",
    "        title - string the title of your plot\n",
    "        axis - axis object\n",
    "        plot - bool providing whether or not you want a plot back\n",
    "        \n",
    "    OUTPUT\n",
    "        study_df - a dataframe with the count of how many individuals\n",
    "        Displays a plot of pretty things related to the CousinEducation column.\n",
    "    '''\n",
    "    study = df['amenities'].value_counts().reset_index()\n",
    "    study.rename(columns={'index': 'method', 'amenities': 'count'}, inplace=True)\n",
    "    study_df = total_count(study, 'method', 'count', possible_vals)\n",
    "\n",
    "    study_df.set_index('method', inplace=True)\n",
    "    if plot:\n",
    "        (study_df/study_df.sum()).plot(kind='bar', legend=None);\n",
    "        plt.title(title);\n",
    "        plt.show()\n",
    "    props_study_df = study_df/study_df.sum()\n",
    "    return props_study_df\n",
    "    \n",
    "props_df = clean_and_plot(df)"
   ]
  },
  {
   "cell_type": "markdown",
   "metadata": {},
   "source": [
    "### Check the relation between between higher availablity and number of ratings\n",
    "The idea is is that highly frequented accommendations get more ratings.\n",
    "At first it is checked wether the columns are complete and contain no NaNs."
   ]
  },
  {
   "cell_type": "code",
   "execution_count": 12,
   "metadata": {},
   "outputs": [
    {
     "name": "stdout",
     "output_type": "stream",
     "text": [
      "False    3585\n",
      "Name: availability_30, dtype: int64\n",
      "False    3585\n",
      "Name: availability_60, dtype: int64\n",
      "False    3585\n",
      "Name: availability_90, dtype: int64\n",
      "False    3585\n",
      "Name: availability_365, dtype: int64\n",
      "False    3585\n",
      "Name: number_of_reviews, dtype: int64\n"
     ]
    }
   ],
   "source": [
    "print(df[\"availability_30\"].isnull().value_counts())\n",
    "print(df[\"availability_60\"].isnull().value_counts())\n",
    "print(df[\"availability_90\"].isnull().value_counts())\n",
    "print(df[\"availability_365\"].isnull().value_counts())\n",
    "print(df[\"number_of_reviews\"].isnull().value_counts())"
   ]
  },
  {
   "cell_type": "markdown",
   "metadata": {},
   "source": [
    "The columns are complete. The correlation coefficients are calculated and corresponding scatter plots are generated to check whether there is some correlation between these the measures."
   ]
  },
  {
   "cell_type": "code",
   "execution_count": 13,
   "metadata": {},
   "outputs": [
    {
     "name": "stdout",
     "output_type": "stream",
     "text": [
      "Pearson correlation coefficient:\n",
      "-0.07130776388476068\n"
     ]
    },
    {
     "data": {
      "image/png": "[encoded data removed]",
      "text/plain": [
       "<Figure size 432x288 with 1 Axes>"
      ]
     },
     "metadata": {
      "needs_background": "light"
     },
     "output_type": "display_data"
    }
   ],
   "source": [
    "df.plot.scatter(x='availability_30', y='number_of_reviews')\n",
    "plt.title(\"Scatterplot\")\n",
    "print('Pearson correlation coefficient:')\n",
    "print(df['availability_30'].corr(df['number_of_reviews']))"
   ]
  },
  {
   "cell_type": "code",
   "execution_count": 14,
   "metadata": {},
   "outputs": [
    {
     "name": "stdout",
     "output_type": "stream",
     "text": [
      "Pearson correlation coefficient:\n",
      "-0.03216877702196826\n"
     ]
    },
    {
     "data": {
      "image/png": "[encoded data removed]",
      "text/plain": [
       "<Figure size 432x288 with 1 Axes>"
      ]
     },
     "metadata": {
      "needs_background": "light"
     },
     "output_type": "display_data"
    }
   ],
   "source": [
    "df.plot.scatter(x='availability_60', y='number_of_reviews')\n",
    "plt.title(\"Scatterplot\")\n",
    "print('Pearson correlation coefficient:')\n",
    "print(df['availability_60'].corr(df['number_of_reviews']))"
   ]
  },
  {
   "cell_type": "code",
   "execution_count": 15,
   "metadata": {},
   "outputs": [
    {
     "name": "stdout",
     "output_type": "stream",
     "text": [
      "Pearson correlation coefficient:\n",
      "0.022165564937379412\n"
     ]
    },
    {
     "data": {
      "image/png": "[encoded data removed]",
      "text/plain": [
       "<Figure size 432x288 with 1 Axes>"
      ]
     },
     "metadata": {
      "needs_background": "light"
     },
     "output_type": "display_data"
    }
   ],
   "source": [
    "df.plot.scatter(x='availability_90', y='number_of_reviews')\n",
    "plt.title(\"Scatterplot\")\n",
    "print('Pearson correlation coefficient:')\n",
    "print(df['availability_90'].corr(df['number_of_reviews']))"
   ]
  },
  {
   "cell_type": "code",
   "execution_count": 16,
   "metadata": {},
   "outputs": [
    {
     "name": "stdout",
     "output_type": "stream",
     "text": [
      "Pearson correlation coefficient:\n",
      "0.19228916562365242\n"
     ]
    },
    {
     "data": {
      "image/png": "[encoded data removed]",
      "text/plain": [
       "<Figure size 432x288 with 1 Axes>"
      ]
     },
     "metadata": {
      "needs_background": "light"
     },
     "output_type": "display_data"
    }
   ],
   "source": [
    "df.plot.scatter(x='availability_365', y='number_of_reviews')\n",
    "plt.title(\"Scatterplot\")\n",
    "print('Pearson correlation coefficient:')\n",
    "print(df['availability_365'].corr(df['number_of_reviews']))"
   ]
  },
  {
   "cell_type": "markdown",
   "metadata": {},
   "source": [
    "No consistent correlation is visible. Thus, the availablity is not considered in the further analysis steps."
   ]
  },
  {
   "cell_type": "markdown",
   "metadata": {},
   "source": [
    "## 3. Data preparation"
   ]
  },
  {
   "cell_type": "code",
   "execution_count": 17,
   "metadata": {},
   "outputs": [],
   "source": [
    "df_prepared = df.copy() # Copy the original dataset into a new dataframe which is then step-by-step changed"
   ]
  },
  {
   "cell_type": "markdown",
   "metadata": {},
   "source": [
    "### Correction of the price column\n",
    "The price column contains unfortunately no number values but strings due to a leading \"$\" symbol and commas as 1000-seperators. Furthermore, the two decimal digits are always \"0\" and are, therefore, useless. Thus, these things are removed and the price is converted to int values. After that, the price distribution is plotted."
   ]
  },
  {
   "cell_type": "code",
   "execution_count": 18,
   "metadata": {},
   "outputs": [],
   "source": [
    "df_prepared['price'] = df_prepared['price'].map(lambda i: (i[1:])) # Remove leading \"$\"\n",
    "df_prepared['price'] = df_prepared['price'].map(lambda i: (i[:-3])) # Remove decimal values (last 3 characters)\n",
    "df_prepared['price'] = df_prepared['price'].map(lambda i: int(i.replace(\",\", \"\"))) # Remove commas and convert to int"
   ]
  },
  {
   "cell_type": "code",
   "execution_count": 19,
   "metadata": {},
   "outputs": [
    {
     "data": {
      "text/plain": [
       "Text(0, 0.5, 'Frequency')"
      ]
     },
     "execution_count": 19,
     "metadata": {},
     "output_type": "execute_result"
    },
    {
     "data": {
      "image/png": "[encoded data removed]",
      "text/plain": [
       "<Figure size 432x288 with 1 Axes>"
      ]
     },
     "metadata": {
      "needs_background": "light"
     },
     "output_type": "display_data"
    }
   ],
   "source": [
    "df_prepared['price'].hist(bins=100, range=(0, 1500))\n",
    "plt.title(\"Distribution of price\")\n",
    "plt.xlabel('Price')\n",
    "plt.ylabel('Frequency')"
   ]
  },
  {
   "cell_type": "markdown",
   "metadata": {},
   "source": [
    "### Replacement of the amenities column by specific columns for each amenity\n",
    "The amenities column is tricky, since it contains strings of all types of combinations of amenities. This is replaced by specific columns with boolean values."
   ]
  },
  {
   "cell_type": "code",
   "execution_count": 20,
   "metadata": {},
   "outputs": [],
   "source": [
    "df_prepared['24HourCheckin']          =df_prepared['amenities'].map(lambda i: \"24-Hour Check-in\" in i)\n",
    "df_prepared['airConditioning']        =df_prepared['amenities'].map(lambda i: \"Air Conditioning\" in i)\n",
    "df_prepared['breakfast']              =df_prepared['amenities'].map(lambda i: \"Breakfast\" in i)\n",
    "df_prepared['buzzerWirelessIntercom'] =df_prepared['amenities'].map(lambda i: \"Buzzer/Wireless Intercom\" in i)\n",
    "df_prepared['cableTV']                =df_prepared['amenities'].map(lambda i: \"Cable TV\" in i)\n",
    "df_prepared['carbonMonoxideDetector'] =df_prepared['amenities'].map(lambda i: \"Carbon Monoxide Detector\" in i)\n",
    "df_prepared['cats']                   =df_prepared['amenities'].map(lambda i: \"Cat(s)\" in i)\n",
    "df_prepared['dogs']                   =df_prepared['amenities'].map(lambda i: \"Dog(s)\" in i)\n",
    "df_prepared['doorman']                =df_prepared['amenities'].map(lambda i: \"Doorman\" in i)\n",
    "df_prepared['dryer']                  =df_prepared['amenities'].map(lambda i: \",Dryer\" in i) # Prohibits match in \"Hair Dryer\"\n",
    "df_prepared['elevatorInBuilding']     =df_prepared['amenities'].map(lambda i: \"Elevator in Building\" in i)\n",
    "df_prepared['essentials']             =df_prepared['amenities'].map(lambda i: \"Essentials\" in i)\n",
    "df_prepared['familyKidFriendly']      =df_prepared['amenities'].map(lambda i: \"Family/Kid Friendly\" in i)\n",
    "df_prepared['fireExtinguisher']       =df_prepared['amenities'].map(lambda i: \"Fire Extinguisher\" in i)\n",
    "df_prepared['firstAidKit']            =df_prepared['amenities'].map(lambda i: \"First Aid Kit\" in i)\n",
    "df_prepared['freeParkingOnPremises']  =df_prepared['amenities'].map(lambda i: \"Free Parking on Premises\" in i)\n",
    "df_prepared['freeParkingOnStreet']    =df_prepared['amenities'].map(lambda i: \"Free Parking on Street\" in i)\n",
    "df_prepared['gym']                    =df_prepared['amenities'].map(lambda i: \"Gym\" in i)\n",
    "df_prepared['hangers']                =df_prepared['amenities'].map(lambda i: \"Hangers\" in i)\n",
    "df_prepared['hairDryer']              =df_prepared['amenities'].map(lambda i: \"Hair Dryer\" in i)\n",
    "df_prepared['heating']                =df_prepared['amenities'].map(lambda i: \"Heating\" in i)\n",
    "df_prepared['hotTub']                 =df_prepared['amenities'].map(lambda i: \"Hot Tub\" in i)\n",
    "df_prepared['indoorFireplace']        =df_prepared['amenities'].map(lambda i: \"Indoor Fireplace\" in i)\n",
    "df_prepared['internet']               =df_prepared['amenities'].map(lambda i: \"Internet,\" in i) # Prohibits match in \"Cable TV\"\n",
    "df_prepared['iron']                   =df_prepared['amenities'].map(lambda i: \"Iron\" in i)\n",
    "df_prepared['kitchen']                =df_prepared['amenities'].map(lambda i: \"Kitchen\" in i)\n",
    "df_prepared['laptopFriendlyWorkspace']=df_prepared['amenities'].map(lambda i: \"Laptop Friendly Workspace\" in i)\n",
    "df_prepared['lockOnBedroomDoor']      =df_prepared['amenities'].map(lambda i: \"Lock on Bedroom Door\" in i)\n",
    "df_prepared['otherPets']              =df_prepared['amenities'].map(lambda i: \"Other pet(s)\" in i)\n",
    "df_prepared['paidParkingOffPremises'] =df_prepared['amenities'].map(lambda i: \"Paid Parking Off Premises\" in i)\n",
    "df_prepared['petsAllowed']            =df_prepared['amenities'].map(lambda i: \"Pets Allowed\" in i)\n",
    "df_prepared['petsLiveOnThisProperty'] =df_prepared['amenities'].map(lambda i: \"Pets live on this property\" in i)\n",
    "df_prepared['pool']                   =df_prepared['amenities'].map(lambda i: \"Pool\" in i)\n",
    "df_prepared['safetyCard']             =df_prepared['amenities'].map(lambda i: \"Safety Card\" in i)\n",
    "df_prepared['shampoo']                =df_prepared['amenities'].map(lambda i: \"Shampoo\" in i)\n",
    "df_prepared['smokeDetector']          =df_prepared['amenities'].map(lambda i: \"Smoke Detector\" in i)\n",
    "df_prepared['smokingAllowed']         =df_prepared['amenities'].map(lambda i: \"Smoking Allowed\" in i)\n",
    "df_prepared['suitableForEvents']      =df_prepared['amenities'].map(lambda i: \"Suitable for Events\" in i)\n",
    "df_prepared['tV']                     =df_prepared['amenities'].map(lambda i: \"TV,\" in i) # Prohibits match in \"Cable TV\"\n",
    "df_prepared['washer']                 =df_prepared['amenities'].map(lambda i: \"Washer\" in i)\n",
    "df_prepared['wheelchairAccessible']   =df_prepared['amenities'].map(lambda i: \"Wheelchair Accessible\" in i)\n",
    "df_prepared['wirelessInternet']       =df_prepared['amenities'].map(lambda i: \"Wireless Internet\" in i)\n",
    "\n",
    "del df_prepared['amenities']\n"
   ]
  },
  {
   "cell_type": "code",
   "execution_count": 21,
   "metadata": {},
   "outputs": [
    {
     "data": {
      "text/html": [
       "<div>\n",
       "<style scoped>\n",
       "    .dataframe tbody tr th:only-of-type {\n",
       "        vertical-align: middle;\n",
       "    }\n",
       "\n",
       "    .dataframe tbody tr th {\n",
       "        vertical-align: top;\n",
       "    }\n",
       "\n",
       "    .dataframe thead th {\n",
       "        text-align: right;\n",
       "    }\n",
       "</style>\n",
       "<table border=\"1\" class=\"dataframe\">\n",
       "  <thead>\n",
       "    <tr style=\"text-align: right;\">\n",
       "      <th></th>\n",
       "      <th>id</th>\n",
       "      <th>listing_url</th>\n",
       "      <th>scrape_id</th>\n",
       "      <th>last_scraped</th>\n",
       "      <th>name</th>\n",
       "      <th>summary</th>\n",
       "      <th>space</th>\n",
       "      <th>description</th>\n",
       "      <th>experiences_offered</th>\n",
       "      <th>neighborhood_overview</th>\n",
       "      <th>...</th>\n",
       "      <th>pool</th>\n",
       "      <th>safetyCard</th>\n",
       "      <th>shampoo</th>\n",
       "      <th>smokeDetector</th>\n",
       "      <th>smokingAllowed</th>\n",
       "      <th>suitableForEvents</th>\n",
       "      <th>tV</th>\n",
       "      <th>washer</th>\n",
       "      <th>wheelchairAccessible</th>\n",
       "      <th>wirelessInternet</th>\n",
       "    </tr>\n",
       "  </thead>\n",
       "  <tbody>\n",
       "    <tr>\n",
       "      <th>0</th>\n",
       "      <td>12147973</td>\n",
       "      <td>https://www.airbnb.com/rooms/12147973</td>\n",
       "      <td>20160906204935</td>\n",
       "      <td>2016-09-07</td>\n",
       "      <td>Sunny Bungalow in the City</td>\n",
       "      <td>Cozy, sunny, family home.  Master bedroom high...</td>\n",
       "      <td>The house has an open and cozy feel at the sam...</td>\n",
       "      <td>Cozy, sunny, family home.  Master bedroom high...</td>\n",
       "      <td>none</td>\n",
       "      <td>Roslindale is quiet, convenient and friendly. ...</td>\n",
       "      <td>...</td>\n",
       "      <td>False</td>\n",
       "      <td>False</td>\n",
       "      <td>True</td>\n",
       "      <td>True</td>\n",
       "      <td>False</td>\n",
       "      <td>False</td>\n",
       "      <td>True</td>\n",
       "      <td>True</td>\n",
       "      <td>False</td>\n",
       "      <td>True</td>\n",
       "    </tr>\n",
       "    <tr>\n",
       "      <th>1</th>\n",
       "      <td>3075044</td>\n",
       "      <td>https://www.airbnb.com/rooms/3075044</td>\n",
       "      <td>20160906204935</td>\n",
       "      <td>2016-09-07</td>\n",
       "      <td>Charming room in pet friendly apt</td>\n",
       "      <td>Charming and quiet room in a second floor 1910...</td>\n",
       "      <td>Small but cozy and quite room with a full size...</td>\n",
       "      <td>Charming and quiet room in a second floor 1910...</td>\n",
       "      <td>none</td>\n",
       "      <td>The room is in Roslindale, a diverse and prima...</td>\n",
       "      <td>...</td>\n",
       "      <td>False</td>\n",
       "      <td>False</td>\n",
       "      <td>True</td>\n",
       "      <td>True</td>\n",
       "      <td>False</td>\n",
       "      <td>False</td>\n",
       "      <td>True</td>\n",
       "      <td>True</td>\n",
       "      <td>False</td>\n",
       "      <td>True</td>\n",
       "    </tr>\n",
       "    <tr>\n",
       "      <th>2</th>\n",
       "      <td>6976</td>\n",
       "      <td>https://www.airbnb.com/rooms/6976</td>\n",
       "      <td>20160906204935</td>\n",
       "      <td>2016-09-07</td>\n",
       "      <td>Mexican Folk Art Haven in Boston</td>\n",
       "      <td>Come stay with a friendly, middle-aged guy in ...</td>\n",
       "      <td>Come stay with a friendly, middle-aged guy in ...</td>\n",
       "      <td>Come stay with a friendly, middle-aged guy in ...</td>\n",
       "      <td>none</td>\n",
       "      <td>The LOCATION: Roslindale is a safe and diverse...</td>\n",
       "      <td>...</td>\n",
       "      <td>False</td>\n",
       "      <td>True</td>\n",
       "      <td>True</td>\n",
       "      <td>True</td>\n",
       "      <td>False</td>\n",
       "      <td>False</td>\n",
       "      <td>True</td>\n",
       "      <td>True</td>\n",
       "      <td>False</td>\n",
       "      <td>True</td>\n",
       "    </tr>\n",
       "    <tr>\n",
       "      <th>3</th>\n",
       "      <td>1436513</td>\n",
       "      <td>https://www.airbnb.com/rooms/1436513</td>\n",
       "      <td>20160906204935</td>\n",
       "      <td>2016-09-07</td>\n",
       "      <td>Spacious Sunny Bedroom Suite in Historic Home</td>\n",
       "      <td>Come experience the comforts of home away from...</td>\n",
       "      <td>Most places you find in Boston are small howev...</td>\n",
       "      <td>Come experience the comforts of home away from...</td>\n",
       "      <td>none</td>\n",
       "      <td>Roslindale is a lovely little neighborhood loc...</td>\n",
       "      <td>...</td>\n",
       "      <td>False</td>\n",
       "      <td>True</td>\n",
       "      <td>True</td>\n",
       "      <td>True</td>\n",
       "      <td>False</td>\n",
       "      <td>False</td>\n",
       "      <td>True</td>\n",
       "      <td>True</td>\n",
       "      <td>False</td>\n",
       "      <td>True</td>\n",
       "    </tr>\n",
       "    <tr>\n",
       "      <th>4</th>\n",
       "      <td>7651065</td>\n",
       "      <td>https://www.airbnb.com/rooms/7651065</td>\n",
       "      <td>20160906204935</td>\n",
       "      <td>2016-09-07</td>\n",
       "      <td>Come Home to Boston</td>\n",
       "      <td>My comfy, clean and relaxing home is one block...</td>\n",
       "      <td>Clean, attractive, private room, one block fro...</td>\n",
       "      <td>My comfy, clean and relaxing home is one block...</td>\n",
       "      <td>none</td>\n",
       "      <td>I love the proximity to downtown, the neighbor...</td>\n",
       "      <td>...</td>\n",
       "      <td>False</td>\n",
       "      <td>False</td>\n",
       "      <td>True</td>\n",
       "      <td>True</td>\n",
       "      <td>False</td>\n",
       "      <td>False</td>\n",
       "      <td>False</td>\n",
       "      <td>False</td>\n",
       "      <td>False</td>\n",
       "      <td>True</td>\n",
       "    </tr>\n",
       "  </tbody>\n",
       "</table>\n",
       "<p>5 rows × 136 columns</p>\n",
       "</div>"
      ],
      "text/plain": [
       "         id                            listing_url       scrape_id  \\\n",
       "0  12147973  https://www.airbnb.com/rooms/12147973  20160906204935   \n",
       "1   3075044   https://www.airbnb.com/rooms/3075044  20160906204935   \n",
       "2      6976      https://www.airbnb.com/rooms/6976  20160906204935   \n",
       "3   1436513   https://www.airbnb.com/rooms/1436513  20160906204935   \n",
       "4   7651065   https://www.airbnb.com/rooms/7651065  20160906204935   \n",
       "\n",
       "  last_scraped                                           name  \\\n",
       "0   2016-09-07                     Sunny Bungalow in the City   \n",
       "1   2016-09-07              Charming room in pet friendly apt   \n",
       "2   2016-09-07               Mexican Folk Art Haven in Boston   \n",
       "3   2016-09-07  Spacious Sunny Bedroom Suite in Historic Home   \n",
       "4   2016-09-07                            Come Home to Boston   \n",
       "\n",
       "                                             summary  \\\n",
       "0  Cozy, sunny, family home.  Master bedroom high...   \n",
       "1  Charming and quiet room in a second floor 1910...   \n",
       "2  Come stay with a friendly, middle-aged guy in ...   \n",
       "3  Come experience the comforts of home away from...   \n",
       "4  My comfy, clean and relaxing home is one block...   \n",
       "\n",
       "                                               space  \\\n",
       "0  The house has an open and cozy feel at the sam...   \n",
       "1  Small but cozy and quite room with a full size...   \n",
       "2  Come stay with a friendly, middle-aged guy in ...   \n",
       "3  Most places you find in Boston are small howev...   \n",
       "4  Clean, attractive, private room, one block fro...   \n",
       "\n",
       "                                         description experiences_offered  \\\n",
       "0  Cozy, sunny, family home.  Master bedroom high...                none   \n",
       "1  Charming and quiet room in a second floor 1910...                none   \n",
       "2  Come stay with a friendly, middle-aged guy in ...                none   \n",
       "3  Come experience the comforts of home away from...                none   \n",
       "4  My comfy, clean and relaxing home is one block...                none   \n",
       "\n",
       "                               neighborhood_overview  ...   pool safetyCard  \\\n",
       "0  Roslindale is quiet, convenient and friendly. ...  ...  False      False   \n",
       "1  The room is in Roslindale, a diverse and prima...  ...  False      False   \n",
       "2  The LOCATION: Roslindale is a safe and diverse...  ...  False       True   \n",
       "3  Roslindale is a lovely little neighborhood loc...  ...  False       True   \n",
       "4  I love the proximity to downtown, the neighbor...  ...  False      False   \n",
       "\n",
       "  shampoo smokeDetector smokingAllowed suitableForEvents     tV washer  \\\n",
       "0    True          True          False             False   True   True   \n",
       "1    True          True          False             False   True   True   \n",
       "2    True          True          False             False   True   True   \n",
       "3    True          True          False             False   True   True   \n",
       "4    True          True          False             False  False  False   \n",
       "\n",
       "  wheelchairAccessible  wirelessInternet  \n",
       "0                False              True  \n",
       "1                False              True  \n",
       "2                False              True  \n",
       "3                False              True  \n",
       "4                False              True  \n",
       "\n",
       "[5 rows x 136 columns]"
      ]
     },
     "execution_count": 21,
     "metadata": {},
     "output_type": "execute_result"
    }
   ],
   "source": [
    "df_prepared.head()"
   ]
  },
  {
   "cell_type": "markdown",
   "metadata": {},
   "source": [
    "### Removing or impeding rows"
   ]
  },
  {
   "cell_type": "code",
   "execution_count": 123,
   "metadata": {},
   "outputs": [
    {
     "name": "stdout",
     "output_type": "stream",
     "text": [
      "False    2772\n",
      "True      813\n",
      "Name: review_scores_rating, dtype: int64\n"
     ]
    }
   ],
   "source": [
    "print(df_prepared[\"review_scores_rating\"].isnull().value_counts())"
   ]
  },
  {
   "cell_type": "markdown",
   "metadata": {},
   "source": [
    "29% of the review scores ratings contain no value, since the corresponding accommendations got no review yet. Since the goal is to predict this column later on, the missing rows will be removed."
   ]
  },
  {
   "cell_type": "code",
   "execution_count": 23,
   "metadata": {},
   "outputs": [],
   "source": [
    "df_reduced=df_prepared.dropna(subset=['review_scores_rating'], axis=0)"
   ]
  },
  {
   "cell_type": "markdown",
   "metadata": {},
   "source": [
    "# 4. Modelling"
   ]
  },
  {
   "cell_type": "markdown",
   "metadata": {},
   "source": [
    "### Is there a relation between price and ratings?"
   ]
  },
  {
   "cell_type": "code",
   "execution_count": 24,
   "metadata": {
    "scrolled": false
   },
   "outputs": [
    {
     "name": "stdout",
     "output_type": "stream",
     "text": [
      "Pearson correlation coefficient:\n",
      "0.1056505948227876\n"
     ]
    },
    {
     "data": {
      "image/png": "[encoded data removed]",
      "text/plain": [
       "<Figure size 432x288 with 1 Axes>"
      ]
     },
     "metadata": {
      "needs_background": "light"
     },
     "output_type": "display_data"
    }
   ],
   "source": [
    "df_reduced.plot.scatter(x='price', y='review_scores_rating')\n",
    "plt.title(\"Scatterplot\")\n",
    "print('Pearson correlation coefficient:')\n",
    "print(df_reduced['price'].corr(df_reduced['review_scores_rating']))"
   ]
  },
  {
   "cell_type": "markdown",
   "metadata": {},
   "source": [
    "There seems to be a slight correleation between price and rating. The higher the price, the higher is the rating. In higher price region, there are no real bad ratings.\n",
    "\n",
    "### Is there a relation between neighborhoods and scores ratings and price?"
   ]
  },
  {
   "cell_type": "code",
   "execution_count": 49,
   "metadata": {},
   "outputs": [
    {
     "data": {
      "text/html": [
       "<div>\n",
       "<style scoped>\n",
       "    .dataframe tbody tr th:only-of-type {\n",
       "        vertical-align: middle;\n",
       "    }\n",
       "\n",
       "    .dataframe tbody tr th {\n",
       "        vertical-align: top;\n",
       "    }\n",
       "\n",
       "    .dataframe thead th {\n",
       "        text-align: right;\n",
       "    }\n",
       "</style>\n",
       "<table border=\"1\" class=\"dataframe\">\n",
       "  <thead>\n",
       "    <tr style=\"text-align: right;\">\n",
       "      <th></th>\n",
       "      <th>review_scores_rating</th>\n",
       "      <th>price</th>\n",
       "    </tr>\n",
       "    <tr>\n",
       "      <th>neighbourhood_cleansed</th>\n",
       "      <th></th>\n",
       "      <th></th>\n",
       "    </tr>\n",
       "  </thead>\n",
       "  <tbody>\n",
       "    <tr>\n",
       "      <th>Leather District</th>\n",
       "      <td>98.333333</td>\n",
       "      <td>242.666667</td>\n",
       "    </tr>\n",
       "    <tr>\n",
       "      <th>Roslindale</th>\n",
       "      <td>95.380000</td>\n",
       "      <td>95.460000</td>\n",
       "    </tr>\n",
       "    <tr>\n",
       "      <th>West Roxbury</th>\n",
       "      <td>95.212121</td>\n",
       "      <td>96.484848</td>\n",
       "    </tr>\n",
       "    <tr>\n",
       "      <th>South Boston Waterfront</th>\n",
       "      <td>94.431034</td>\n",
       "      <td>263.810345</td>\n",
       "    </tr>\n",
       "    <tr>\n",
       "      <th>Jamaica Plain</th>\n",
       "      <td>94.159322</td>\n",
       "      <td>136.288136</td>\n",
       "    </tr>\n",
       "  </tbody>\n",
       "</table>\n",
       "</div>"
      ],
      "text/plain": [
       "                         review_scores_rating       price\n",
       "neighbourhood_cleansed                                   \n",
       "Leather District                    98.333333  242.666667\n",
       "Roslindale                          95.380000   95.460000\n",
       "West Roxbury                        95.212121   96.484848\n",
       "South Boston Waterfront             94.431034  263.810345\n",
       "Jamaica Plain                       94.159322  136.288136"
      ]
     },
     "execution_count": 49,
     "metadata": {},
     "output_type": "execute_result"
    }
   ],
   "source": [
    "df_neighbourhood_relations=pd.DataFrame()\n",
    "df_neighbourhood_relations['review_scores_rating']=df_reduced.groupby('neighbourhood_cleansed').mean()['review_scores_rating'].sort_values(ascending=False)\n",
    "df_neighbourhood_relations['price']=df_reduced.groupby('neighbourhood_cleansed').mean()['price'].sort_values(ascending=False)\n",
    "df_neighbourhood_relations.head()"
   ]
  },
  {
   "cell_type": "code",
   "execution_count": 50,
   "metadata": {},
   "outputs": [
    {
     "name": "stdout",
     "output_type": "stream",
     "text": [
      "Pearson correlation coefficient:\n",
      "0.31766590732863437\n"
     ]
    },
    {
     "data": {
      "image/png": "[encoded data removed]",
      "text/plain": [
       "<Figure size 432x288 with 1 Axes>"
      ]
     },
     "metadata": {
      "needs_background": "light"
     },
     "output_type": "display_data"
    }
   ],
   "source": [
    "df_neighbourhood_relations.plot.scatter(x='review_scores_rating', y='price')\n",
    "plt.title(\"Scatterplot\")\n",
    "print('Pearson correlation coefficient:')\n",
    "print(df_neighbourhood_relations['review_scores_rating'].corr(df_neighbourhood_relations['price']))"
   ]
  },
  {
   "cell_type": "markdown",
   "metadata": {},
   "source": [
    "It is not analyzed in more details here, but it seems that neighbourhoods with a higher rating also have a higher mean price and vice versa. Of course, the correlation is weak since a lot of people might decide to stay in a specific neighborhood for specific reasons not covered here and other might be completely happy with a lower standards accommendation."
   ]
  },
  {
   "cell_type": "markdown",
   "metadata": {},
   "source": [
    "### Is there a relation between the number of reviews and the scores rating? In other words: Is the distribution of ratings skewed?"
   ]
  },
  {
   "cell_type": "code",
   "execution_count": 51,
   "metadata": {},
   "outputs": [
    {
     "name": "stdout",
     "output_type": "stream",
     "text": [
      "Pearson correlation coefficient:\n",
      "0.02277785222784338\n"
     ]
    },
    {
     "data": {
      "image/png": "[encoded data removed]",
      "text/plain": [
       "<Figure size 432x288 with 1 Axes>"
      ]
     },
     "metadata": {
      "needs_background": "light"
     },
     "output_type": "display_data"
    }
   ],
   "source": [
    "df_reduced.plot.scatter(x='number_of_reviews', y='review_scores_rating')\n",
    "plt.title(\"Scatterplot\")\n",
    "print('Pearson correlation coefficient:')\n",
    "print(df_reduced['review_scores_rating'].corr(df_reduced['number_of_reviews']))"
   ]
  },
  {
   "cell_type": "markdown",
   "metadata": {},
   "source": [
    "The scatterplot shows an interesting pattern, however, the correlation coefficient not indicates a relation between the two measures. Obviously, the score rating mean of accommendations with a lower number of reviews has a higher variance in comparison to accommendations with many reviews. Thus, number of reviews is not taken into account for the further analysis.\n",
    "\n",
    "### Is there a relation between amenities and rating?"
   ]
  },
  {
   "cell_type": "code",
   "execution_count": 57,
   "metadata": {},
   "outputs": [
    {
     "name": "stdout",
     "output_type": "stream",
     "text": [
      "The R^2 value is: 0.027724779654798914\n"
     ]
    }
   ],
   "source": [
    "# Consider only amenity variables\n",
    "X = df_reduced[['24HourCheckin', 'airConditioning', 'breakfast', 'buzzerWirelessIntercom', 'cableTV', \n",
    "                'carbonMonoxideDetector', 'cats', 'dogs', 'doorman', 'dryer', 'elevatorInBuilding',\n",
    "                'essentials', 'familyKidFriendly', 'fireExtinguisher', 'firstAidKit', 'freeParkingOnPremises',\n",
    "                'freeParkingOnStreet', 'gym', 'hangers', 'hairDryer', 'heating', 'hotTub', 'indoorFireplace',\n",
    "                'internet', 'iron', 'kitchen', 'laptopFriendlyWorkspace', 'lockOnBedroomDoor', 'otherPets',\n",
    "                'paidParkingOffPremises', 'petsAllowed', 'petsLiveOnThisProperty', 'pool', 'safetyCard',\n",
    "                'shampoo', 'smokeDetector', 'smokingAllowed', 'suitableForEvents', 'tV', 'washer',\n",
    "                'wheelchairAccessible', 'wirelessInternet']]\n",
    "y = df_reduced['review_scores_rating']\n",
    "\n",
    "X_train, X_test, y_train, y_test = train_test_split(X, y, test_size = .30, random_state=42)\n",
    "\n",
    "#Instantiate\n",
    "lm_model = LinearRegression(normalize=True) \n",
    "\n",
    "#Fit\n",
    "lm_model.fit(X_train, y_train) \n",
    "\n",
    "#Predict\n",
    "y_test_preds = lm_model.predict(X_test)\n",
    "\n",
    "# Rsquared here for comparing test and preds from model\n",
    "r2_test =  r2_score(y_test, y_test_preds)\n",
    "\n",
    "# Print r2 to see result\n",
    "print('The R^2 value is:', r2_test)"
   ]
  },
  {
   "cell_type": "code",
   "execution_count": 69,
   "metadata": {},
   "outputs": [
    {
     "name": "stdout",
     "output_type": "stream",
     "text": [
      "24HourCheckin : -0.340121047954179\n",
      "airConditioning : 2.7317876062824884\n",
      "breakfast : 1.3042176274479924\n",
      "buzzerWirelessIntercom : -0.21038729129751121\n",
      "cableTV : 0.4204153034957165\n",
      "carbonMonoxideDetector : 0.6443822389804092\n",
      "cats : -0.3133495178777601\n",
      "dogs : 0.22930724138266922\n",
      "doorman : 2.190397499365159\n",
      "dryer : -1.5140851827550923\n",
      "elevatorInBuilding : 0.9935627333454234\n",
      "essentials : 1.58600568194622\n",
      "familyKidFriendly : -0.9531499976138134\n",
      "fireExtinguisher : 1.211068584706747\n",
      "firstAidKit : 0.5802201174048289\n",
      "freeParkingOnPremises : 0.6288871207631401\n",
      "freeParkingOnStreet : -1.7908374457306395\n",
      "gym : -2.4604631630812253\n",
      "hangers : 0.4097147576601878\n",
      "hairDryer : 0.26680120795864154\n",
      "heating : 0.5456413467563991\n",
      "hotTub : -1.8489787203631416\n",
      "indoorFireplace : 0.8199489494794266\n",
      "internet : -0.7031957480463981\n",
      "iron : 0.013887505576841064\n",
      "kitchen : -1.7216076334167185\n",
      "laptopFriendlyWorkspace : 0.6485579584285656\n",
      "lockOnBedroomDoor : -0.3371040656833359\n",
      "otherPets : 0.6796447307018015\n",
      "paidParkingOffPremises : 0.9739548122853441\n",
      "petsAllowed : 0.0684009773660748\n",
      "petsLiveOnThisProperty : 1.1026943804261686\n",
      "pool : -2.984681825688092\n",
      "safetyCard : -0.04987429163930423\n",
      "shampoo : 1.0222618524164244\n",
      "smokeDetector : 1.115993913241218\n",
      "smokingAllowed : -3.519837401650344\n",
      "suitableForEvents : 1.2848359548978519\n",
      "tV : 0.5940910296371631\n",
      "washer : 3.188477714054019\n",
      "wheelchairAccessible : 0.7055989144332236\n",
      "wirelessInternet : 4.81098415589239\n"
     ]
    }
   ],
   "source": [
    "for i in range(0, len(X.columns)):\n",
    "    print(X.columns[i], \":\", lm_model.coef_[i])"
   ]
  },
  {
   "cell_type": "code",
   "execution_count": 71,
   "metadata": {},
   "outputs": [
    {
     "ename": "SyntaxError",
     "evalue": "invalid syntax (<ipython-input-71-143df628f083>, line 11)",
     "output_type": "error",
     "traceback": [
      "\u001b[1;36m  File \u001b[1;32m\"<ipython-input-71-143df628f083>\"\u001b[1;36m, line \u001b[1;32m11\u001b[0m\n\u001b[1;33m    property type, the room type, the accommodates, the bed type\u001b[0m\n\u001b[1;37m                ^\u001b[0m\n\u001b[1;31mSyntaxError\u001b[0m\u001b[1;31m:\u001b[0m invalid syntax\n"
     ]
    }
   ],
   "source": [
    "# Consider all variables\n",
    "X = df_reduced[['property_type', 'room_type', 'bed_type', 'accommodates', 'price', '24HourCheckin', 'airConditioning', 'breakfast', 'buzzerWirelessIntercom', 'cableTV', \n",
    "                'carbonMonoxideDetector', 'cats', 'dogs', 'doorman', 'dryer', 'elevatorInBuilding',\n",
    "                'essentials', 'familyKidFriendly', 'fireExtinguisher', 'firstAidKit', 'freeParkingOnPremises',\n",
    "                'freeParkingOnStreet', 'gym', 'hangers', 'hairDryer', 'heating', 'hotTub', 'indoorFireplace',\n",
    "                'internet', 'iron', 'kitchen', 'laptopFriendlyWorkspace', 'lockOnBedroomDoor', 'otherPets',\n",
    "                'paidParkingOffPremises', 'petsAllowed', 'petsLiveOnThisProperty', 'pool', 'safetyCard',\n",
    "                'shampoo', 'smokeDetector', 'smokingAllowed', 'suitableForEvents', 'tV', 'washer',\n",
    "                'wheelchairAccessible', 'wirelessInternet']]\n",
    "y = df_reduced['review_scores_rating']\n",
    "property type, the room type, the accommodates, the bed type\n",
    "X_train, X_test, y_train, y_test = train_test_split(X, y, test_size = .30, random_state=42)\n",
    "\n",
    "#Instantiate\n",
    "lm_model = LinearRegression(normalize=True) \n",
    "\n",
    "#Fit\n",
    "lm_model.fit(X_train, y_train) \n",
    "\n",
    "#Predict\n",
    "y_test_preds = lm_model.predict(X_test)\n",
    "\n",
    "# Rsquared here for comparing test and preds from model\n",
    "r2_test =  r2_score(y_test, y_test_preds)\n",
    "\n",
    "# Print r2 to see result\n",
    "print('The R^2 value is:', r2_test)"
   ]
  },
  {
   "cell_type": "code",
   "execution_count": 72,
   "metadata": {},
   "outputs": [
    {
     "data": {
      "text/plain": [
       "1          Apartment\n",
       "2          Apartment\n",
       "3              House\n",
       "4              House\n",
       "5        Condominium\n",
       "6          Apartment\n",
       "7              House\n",
       "8        Condominium\n",
       "9          Apartment\n",
       "10             House\n",
       "11             House\n",
       "12       Condominium\n",
       "13         Apartment\n",
       "14             House\n",
       "15         Apartment\n",
       "16             House\n",
       "17       Condominium\n",
       "19             House\n",
       "20             Villa\n",
       "21             House\n",
       "22         Apartment\n",
       "23             House\n",
       "24             House\n",
       "25             House\n",
       "26         Apartment\n",
       "27             House\n",
       "28         Apartment\n",
       "29             House\n",
       "30       Condominium\n",
       "31         Apartment\n",
       "            ...     \n",
       "3517       Apartment\n",
       "3518       Apartment\n",
       "3520       Apartment\n",
       "3522       Apartment\n",
       "3523       Apartment\n",
       "3524       Apartment\n",
       "3526       Apartment\n",
       "3528       Apartment\n",
       "3529       Apartment\n",
       "3531           House\n",
       "3532       Apartment\n",
       "3533           House\n",
       "3534       Apartment\n",
       "3541       Apartment\n",
       "3545     Condominium\n",
       "3548    Entire Floor\n",
       "3551       Apartment\n",
       "3554           House\n",
       "3555       Apartment\n",
       "3559            Boat\n",
       "3565       Apartment\n",
       "3568       Apartment\n",
       "3570           House\n",
       "3571       Apartment\n",
       "3573       Apartment\n",
       "3574       Townhouse\n",
       "3575       Apartment\n",
       "3578           House\n",
       "3580       Apartment\n",
       "3583       Apartment\n",
       "Name: property_type, Length: 2772, dtype: object"
      ]
     },
     "execution_count": 72,
     "metadata": {},
     "output_type": "execute_result"
    }
   ],
   "source": [
    "df_reduced['property_type']"
   ]
  }
 ],
 "metadata": {
  "anaconda-cloud": {},
  "kernelspec": {
   "display_name": "Python 3",
   "language": "python",
   "name": "python3"
  },
  "language_info": {
   "codemirror_mode": {
    "name": "ipython",
    "version": 3
   },
   "file_extension": ".py",
   "mimetype": "text/x-python",
   "name": "python",
   "nbconvert_exporter": "python",
   "pygments_lexer": "ipython3",
   "version": "3.7.3"
  }
 },
 "nbformat": 4,
 "nbformat_minor": 2
}
