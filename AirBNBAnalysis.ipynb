{
 "cells": [
  {
   "cell_type": "markdown",
   "metadata": {},
   "source": [
    "# Analysis of AirBNB data from Boston\n",
    "In this analysis, Boston AirBNB data from the listings.csv file downloaded from https://www.kaggle.com/airbnb/boston/data is analyzed according to the CRISP-DM process to answer some questions, mainly relevant for people offering their accommodations.\n",
    "\n",
    "## 1. Business understanding\n",
    "AirBNB is a community based platform in which users can offer their private accommodations to other people. So the platform acts as a kind of broker. Users can earn money by renting their couch, their room, their flats or even a complete houses. Its is assumed that one reason to book a specific accommodation is - beside location, price, and amenities - the rating by other users. Here, it shall be - amongst some other questions - analyzed whether there are aspects that renters can influence that are corrolated with a high review scores rating.\n",
    "\n",
    "The following aspects are analyzed in 4. Modelling:\n",
    "1. Is there correlation between price and review scores rating?\n",
    "2. Are there differences in review scores rating and price between different neighbourhoods?\n",
    "3. Is there correlation between number of reviews and review scores rating?\n",
    "4. Is there a relation between amenities and review scores rating?\n",
    "5. Is there a way to predict the review scores rating based on amenities and price?"
   ]
  },
  {
   "cell_type": "markdown",
   "metadata": {},
   "source": [
    "## 2. Data understanding\n",
    "The data is loaded and a number of things are checked to understand the dataset."
   ]
  },
  {
   "cell_type": "code",
   "execution_count": 1,
   "metadata": {},
   "outputs": [
    {
     "data": {
      "text/html": [
       "<div>\n",
       "<style scoped>\n",
       "    .dataframe tbody tr th:only-of-type {\n",
       "        vertical-align: middle;\n",
       "    }\n",
       "\n",
       "    .dataframe tbody tr th {\n",
       "        vertical-align: top;\n",
       "    }\n",
       "\n",
       "    .dataframe thead th {\n",
       "        text-align: right;\n",
       "    }\n",
       "</style>\n",
       "<table border=\"1\" class=\"dataframe\">\n",
       "  <thead>\n",
       "    <tr style=\"text-align: right;\">\n",
       "      <th></th>\n",
       "      <th>id</th>\n",
       "      <th>listing_url</th>\n",
       "      <th>scrape_id</th>\n",
       "      <th>last_scraped</th>\n",
       "      <th>name</th>\n",
       "      <th>summary</th>\n",
       "      <th>space</th>\n",
       "      <th>description</th>\n",
       "      <th>experiences_offered</th>\n",
       "      <th>neighborhood_overview</th>\n",
       "      <th>...</th>\n",
       "      <th>review_scores_value</th>\n",
       "      <th>requires_license</th>\n",
       "      <th>license</th>\n",
       "      <th>jurisdiction_names</th>\n",
       "      <th>instant_bookable</th>\n",
       "      <th>cancellation_policy</th>\n",
       "      <th>require_guest_profile_picture</th>\n",
       "      <th>require_guest_phone_verification</th>\n",
       "      <th>calculated_host_listings_count</th>\n",
       "      <th>reviews_per_month</th>\n",
       "    </tr>\n",
       "  </thead>\n",
       "  <tbody>\n",
       "    <tr>\n",
       "      <th>0</th>\n",
       "      <td>12147973</td>\n",
       "      <td>https://www.airbnb.com/rooms/12147973</td>\n",
       "      <td>20160906204935</td>\n",
       "      <td>2016-09-07</td>\n",
       "      <td>Sunny Bungalow in the City</td>\n",
       "      <td>Cozy, sunny, family home.  Master bedroom high...</td>\n",
       "      <td>The house has an open and cozy feel at the sam...</td>\n",
       "      <td>Cozy, sunny, family home.  Master bedroom high...</td>\n",
       "      <td>none</td>\n",
       "      <td>Roslindale is quiet, convenient and friendly. ...</td>\n",
       "      <td>...</td>\n",
       "      <td>NaN</td>\n",
       "      <td>f</td>\n",
       "      <td>NaN</td>\n",
       "      <td>NaN</td>\n",
       "      <td>f</td>\n",
       "      <td>moderate</td>\n",
       "      <td>f</td>\n",
       "      <td>f</td>\n",
       "      <td>1</td>\n",
       "      <td>NaN</td>\n",
       "    </tr>\n",
       "    <tr>\n",
       "      <th>1</th>\n",
       "      <td>3075044</td>\n",
       "      <td>https://www.airbnb.com/rooms/3075044</td>\n",
       "      <td>20160906204935</td>\n",
       "      <td>2016-09-07</td>\n",
       "      <td>Charming room in pet friendly apt</td>\n",
       "      <td>Charming and quiet room in a second floor 1910...</td>\n",
       "      <td>Small but cozy and quite room with a full size...</td>\n",
       "      <td>Charming and quiet room in a second floor 1910...</td>\n",
       "      <td>none</td>\n",
       "      <td>The room is in Roslindale, a diverse and prima...</td>\n",
       "      <td>...</td>\n",
       "      <td>9.0</td>\n",
       "      <td>f</td>\n",
       "      <td>NaN</td>\n",
       "      <td>NaN</td>\n",
       "      <td>t</td>\n",
       "      <td>moderate</td>\n",
       "      <td>f</td>\n",
       "      <td>f</td>\n",
       "      <td>1</td>\n",
       "      <td>1.30</td>\n",
       "    </tr>\n",
       "    <tr>\n",
       "      <th>2</th>\n",
       "      <td>6976</td>\n",
       "      <td>https://www.airbnb.com/rooms/6976</td>\n",
       "      <td>20160906204935</td>\n",
       "      <td>2016-09-07</td>\n",
       "      <td>Mexican Folk Art Haven in Boston</td>\n",
       "      <td>Come stay with a friendly, middle-aged guy in ...</td>\n",
       "      <td>Come stay with a friendly, middle-aged guy in ...</td>\n",
       "      <td>Come stay with a friendly, middle-aged guy in ...</td>\n",
       "      <td>none</td>\n",
       "      <td>The LOCATION: Roslindale is a safe and diverse...</td>\n",
       "      <td>...</td>\n",
       "      <td>10.0</td>\n",
       "      <td>f</td>\n",
       "      <td>NaN</td>\n",
       "      <td>NaN</td>\n",
       "      <td>f</td>\n",
       "      <td>moderate</td>\n",
       "      <td>t</td>\n",
       "      <td>f</td>\n",
       "      <td>1</td>\n",
       "      <td>0.47</td>\n",
       "    </tr>\n",
       "    <tr>\n",
       "      <th>3</th>\n",
       "      <td>1436513</td>\n",
       "      <td>https://www.airbnb.com/rooms/1436513</td>\n",
       "      <td>20160906204935</td>\n",
       "      <td>2016-09-07</td>\n",
       "      <td>Spacious Sunny Bedroom Suite in Historic Home</td>\n",
       "      <td>Come experience the comforts of home away from...</td>\n",
       "      <td>Most places you find in Boston are small howev...</td>\n",
       "      <td>Come experience the comforts of home away from...</td>\n",
       "      <td>none</td>\n",
       "      <td>Roslindale is a lovely little neighborhood loc...</td>\n",
       "      <td>...</td>\n",
       "      <td>10.0</td>\n",
       "      <td>f</td>\n",
       "      <td>NaN</td>\n",
       "      <td>NaN</td>\n",
       "      <td>f</td>\n",
       "      <td>moderate</td>\n",
       "      <td>f</td>\n",
       "      <td>f</td>\n",
       "      <td>1</td>\n",
       "      <td>1.00</td>\n",
       "    </tr>\n",
       "    <tr>\n",
       "      <th>4</th>\n",
       "      <td>7651065</td>\n",
       "      <td>https://www.airbnb.com/rooms/7651065</td>\n",
       "      <td>20160906204935</td>\n",
       "      <td>2016-09-07</td>\n",
       "      <td>Come Home to Boston</td>\n",
       "      <td>My comfy, clean and relaxing home is one block...</td>\n",
       "      <td>Clean, attractive, private room, one block fro...</td>\n",
       "      <td>My comfy, clean and relaxing home is one block...</td>\n",
       "      <td>none</td>\n",
       "      <td>I love the proximity to downtown, the neighbor...</td>\n",
       "      <td>...</td>\n",
       "      <td>10.0</td>\n",
       "      <td>f</td>\n",
       "      <td>NaN</td>\n",
       "      <td>NaN</td>\n",
       "      <td>f</td>\n",
       "      <td>flexible</td>\n",
       "      <td>f</td>\n",
       "      <td>f</td>\n",
       "      <td>1</td>\n",
       "      <td>2.25</td>\n",
       "    </tr>\n",
       "  </tbody>\n",
       "</table>\n",
       "<p>5 rows × 95 columns</p>\n",
       "</div>"
      ],
      "text/plain": [
       "         id                            listing_url       scrape_id  \\\n",
       "0  12147973  https://www.airbnb.com/rooms/12147973  20160906204935   \n",
       "1   3075044   https://www.airbnb.com/rooms/3075044  20160906204935   \n",
       "2      6976      https://www.airbnb.com/rooms/6976  20160906204935   \n",
       "3   1436513   https://www.airbnb.com/rooms/1436513  20160906204935   \n",
       "4   7651065   https://www.airbnb.com/rooms/7651065  20160906204935   \n",
       "\n",
       "  last_scraped                                           name  \\\n",
       "0   2016-09-07                     Sunny Bungalow in the City   \n",
       "1   2016-09-07              Charming room in pet friendly apt   \n",
       "2   2016-09-07               Mexican Folk Art Haven in Boston   \n",
       "3   2016-09-07  Spacious Sunny Bedroom Suite in Historic Home   \n",
       "4   2016-09-07                            Come Home to Boston   \n",
       "\n",
       "                                             summary  \\\n",
       "0  Cozy, sunny, family home.  Master bedroom high...   \n",
       "1  Charming and quiet room in a second floor 1910...   \n",
       "2  Come stay with a friendly, middle-aged guy in ...   \n",
       "3  Come experience the comforts of home away from...   \n",
       "4  My comfy, clean and relaxing home is one block...   \n",
       "\n",
       "                                               space  \\\n",
       "0  The house has an open and cozy feel at the sam...   \n",
       "1  Small but cozy and quite room with a full size...   \n",
       "2  Come stay with a friendly, middle-aged guy in ...   \n",
       "3  Most places you find in Boston are small howev...   \n",
       "4  Clean, attractive, private room, one block fro...   \n",
       "\n",
       "                                         description experiences_offered  \\\n",
       "0  Cozy, sunny, family home.  Master bedroom high...                none   \n",
       "1  Charming and quiet room in a second floor 1910...                none   \n",
       "2  Come stay with a friendly, middle-aged guy in ...                none   \n",
       "3  Come experience the comforts of home away from...                none   \n",
       "4  My comfy, clean and relaxing home is one block...                none   \n",
       "\n",
       "                               neighborhood_overview  ... review_scores_value  \\\n",
       "0  Roslindale is quiet, convenient and friendly. ...  ...                 NaN   \n",
       "1  The room is in Roslindale, a diverse and prima...  ...                 9.0   \n",
       "2  The LOCATION: Roslindale is a safe and diverse...  ...                10.0   \n",
       "3  Roslindale is a lovely little neighborhood loc...  ...                10.0   \n",
       "4  I love the proximity to downtown, the neighbor...  ...                10.0   \n",
       "\n",
       "  requires_license license jurisdiction_names instant_bookable  \\\n",
       "0                f     NaN                NaN                f   \n",
       "1                f     NaN                NaN                t   \n",
       "2                f     NaN                NaN                f   \n",
       "3                f     NaN                NaN                f   \n",
       "4                f     NaN                NaN                f   \n",
       "\n",
       "  cancellation_policy require_guest_profile_picture  \\\n",
       "0            moderate                             f   \n",
       "1            moderate                             f   \n",
       "2            moderate                             t   \n",
       "3            moderate                             f   \n",
       "4            flexible                             f   \n",
       "\n",
       "  require_guest_phone_verification calculated_host_listings_count  \\\n",
       "0                                f                              1   \n",
       "1                                f                              1   \n",
       "2                                f                              1   \n",
       "3                                f                              1   \n",
       "4                                f                              1   \n",
       "\n",
       "   reviews_per_month  \n",
       "0                NaN  \n",
       "1               1.30  \n",
       "2               0.47  \n",
       "3               1.00  \n",
       "4               2.25  \n",
       "\n",
       "[5 rows x 95 columns]"
      ]
     },
     "execution_count": 1,
     "metadata": {},
     "output_type": "execute_result"
    }
   ],
   "source": [
    "import numpy as np\n",
    "from collections import defaultdict\n",
    "import pandas as pd\n",
    "import matplotlib.pyplot as plt\n",
    "from sklearn.linear_model import LinearRegression\n",
    "from sklearn.model_selection import train_test_split\n",
    "from sklearn.metrics import r2_score, mean_squared_error\n",
    "from IPython import display\n",
    "%matplotlib inline\n",
    "\n",
    "df = pd.read_csv('./listings.csv') # Read in data\n",
    "df.head()"
   ]
  },
  {
   "cell_type": "markdown",
   "metadata": {},
   "source": [
    "### Determine the number of rows (entries for specifc accommodations) and columns (different features of the accommodations)"
   ]
  },
  {
   "cell_type": "code",
   "execution_count": 2,
   "metadata": {},
   "outputs": [
    {
     "name": "stdout",
     "output_type": "stream",
     "text": [
      "The dataset contains 3585 rows and 95 columns.\n"
     ]
    }
   ],
   "source": [
    "num_rows = df.shape[0] #Contains the number of rows in the dataset\n",
    "num_cols = df.shape[1] #Contains the number of columns in the dataset\n",
    "\n",
    "print('The dataset contains', num_rows, 'rows and', num_cols, 'columns.')"
   ]
  },
  {
   "cell_type": "markdown",
   "metadata": {},
   "source": [
    "### Check of the columns to find out which are important for this analysis and check their status\n",
    "The dataset contains many full text columns. They will not be considered here. It is assumed that neighborhood (the cleansed version), the property type, the room type, the accommodates, the amenities, the price, the availability, the number of reviews, and of course the rating score itself play a role to answer the business questions above."
   ]
  },
  {
   "cell_type": "code",
   "execution_count": 3,
   "metadata": {},
   "outputs": [
    {
     "name": "stdout",
     "output_type": "stream",
     "text": [
      "{'availability_30', 'host_thumbnail_url', 'host_total_listings_count', 'host_identity_verified', 'state', 'country_code', 'guests_included', 'room_type', 'neighbourhood_cleansed', 'host_url', 'host_has_profile_pic', 'require_guest_profile_picture', 'smart_location', 'amenities', 'host_picture_url', 'bed_type', 'host_is_superhost', 'longitude', 'calendar_last_scraped', 'scrape_id', 'accommodates', 'price', 'host_since', 'last_scraped', 'extra_people', 'require_guest_phone_verification', 'calculated_host_listings_count', 'description', 'calendar_updated', 'availability_60', 'host_name', 'maximum_nights', 'latitude', 'requires_license', 'name', 'cancellation_policy', 'availability_90', 'listing_url', 'host_listings_count', 'picture_url', 'host_verifications', 'availability_365', 'id', 'number_of_reviews', 'experiences_offered', 'country', 'minimum_nights', 'instant_bookable', 'is_location_exact', 'street', 'host_id'}\n"
     ]
    }
   ],
   "source": [
    "no_nulls = set(df.columns[df.isnull().mean()==0]) # Check which columns are complete\n",
    "print(no_nulls)"
   ]
  },
  {
   "cell_type": "code",
   "execution_count": 4,
   "metadata": {},
   "outputs": [
    {
     "name": "stdout",
     "output_type": "stream",
     "text": [
      "{'property_type', 'host_response_time', 'neighbourhood_group_cleansed', 'transit', 'city', 'bedrooms', 'bathrooms', 'summary', 'monthly_price', 'review_scores_accuracy', 'review_scores_checkin', 'review_scores_value', 'house_rules', 'has_availability', 'license', 'reviews_per_month', 'beds', 'host_about', 'review_scores_location', 'jurisdiction_names', 'last_review', 'xl_picture_url', 'thumbnail_url', 'host_acceptance_rate', 'square_feet', 'review_scores_rating', 'host_response_rate', 'host_location', 'security_deposit', 'cleaning_fee', 'market', 'neighbourhood', 'review_scores_cleanliness', 'host_neighbourhood', 'access', 'neighborhood_overview', 'notes', 'zipcode', 'space', 'first_review', 'review_scores_communication', 'medium_url', 'weekly_price', 'interaction'}\n"
     ]
    }
   ],
   "source": [
    "most_missing_cols = set(df.columns[df.isnull().mean() > 0]) # Check which columns have missing values\n",
    "print(most_missing_cols)"
   ]
  },
  {
   "cell_type": "markdown",
   "metadata": {},
   "source": [
    "### Check some categorial variables which might be important for the further analysis."
   ]
  },
  {
   "cell_type": "code",
   "execution_count": 5,
   "metadata": {},
   "outputs": [
    {
     "name": "stdout",
     "output_type": "stream",
     "text": [
      "Jamaica Plain              343\n",
      "South End                  326\n",
      "Back Bay                   302\n",
      "Fenway                     290\n",
      "Dorchester                 269\n",
      "Allston                    260\n",
      "Beacon Hill                194\n",
      "Brighton                   185\n",
      "South Boston               174\n",
      "Downtown                   172\n",
      "East Boston                150\n",
      "Roxbury                    144\n",
      "North End                  143\n",
      "Mission Hill               124\n",
      "Charlestown                111\n",
      "South Boston Waterfront     83\n",
      "Chinatown                   71\n",
      "Roslindale                  56\n",
      "West End                    49\n",
      "West Roxbury                46\n",
      "Hyde Park                   31\n",
      "Mattapan                    24\n",
      "Bay Village                 24\n",
      "Longwood Medical Area        9\n",
      "Leather District             5\n",
      "Name: neighbourhood_cleansed, dtype: int64\n"
     ]
    }
   ],
   "source": [
    "neighbourhood=df['neighbourhood_cleansed'].value_counts() # Check the number of accommodations per neighbourhood\n",
    "print(neighbourhood)"
   ]
  },
  {
   "cell_type": "code",
   "execution_count": 6,
   "metadata": {},
   "outputs": [
    {
     "name": "stdout",
     "output_type": "stream",
     "text": [
      "Apartment          2612\n",
      "House               562\n",
      "Condominium         231\n",
      "Townhouse            54\n",
      "Bed & Breakfast      41\n",
      "Loft                 39\n",
      "Other                17\n",
      "Boat                 12\n",
      "Villa                 6\n",
      "Entire Floor          4\n",
      "Dorm                  2\n",
      "Guesthouse            1\n",
      "Camper/RV             1\n",
      "Name: property_type, dtype: int64\n"
     ]
    }
   ],
   "source": [
    "property_type=df['property_type'].value_counts() # Check the number of accommodations per property type\n",
    "print(property_type)"
   ]
  },
  {
   "cell_type": "code",
   "execution_count": 7,
   "metadata": {},
   "outputs": [
    {
     "name": "stdout",
     "output_type": "stream",
     "text": [
      "Entire home/apt    2127\n",
      "Private room       1378\n",
      "Shared room          80\n",
      "Name: room_type, dtype: int64\n"
     ]
    }
   ],
   "source": [
    "room_type=df['room_type'].value_counts() # Check the number of accommodations per room type\n",
    "print(room_type)"
   ]
  },
  {
   "cell_type": "markdown",
   "metadata": {},
   "source": [
    "### Check the different amenities which are unfortunately not listed in specific columns\n",
    "\n",
    "To this end, the code from \"Lession 1 - Notebook + Quiz: How To Break Into the Field\" has been adapted to generate a plot showing the fraction of each amenty."
   ]
  },
  {
   "cell_type": "code",
   "execution_count": 8,
   "metadata": {},
   "outputs": [
    {
     "data": {
      "image/png": "[encoded data removed]",
      "text/plain": [
       "<Figure size 432x288 with 1 Axes>"
      ]
     },
     "metadata": {
      "needs_background": "light"
     },
     "output_type": "display_data"
    }
   ],
   "source": [
    "def total_count(df, col1, col2, look_for):\n",
    "    '''\n",
    "    INPUT:\n",
    "    df - the pandas dataframe you want to search\n",
    "    col1 - the column name you want to look through\n",
    "    col2 - the column you want to count values from\n",
    "    look_for - a list of strings you want to search for in each row of df[col]\n",
    "\n",
    "    OUTPUT:\n",
    "    new_df - a dataframe of each look_for with the count of how often it shows up\n",
    "    '''\n",
    "    new_df = defaultdict(int)\n",
    "    #loop through list of different types\n",
    "    for val in look_for:\n",
    "        #loop through rows\n",
    "        for idx in range(df.shape[0]):\n",
    "            #if the ed type is in the row add 1\n",
    "            if val in df[col1][idx]:\n",
    "                new_df[val] += int(df[col2][idx])\n",
    "    new_df = pd.DataFrame(pd.Series(new_df)).reset_index()\n",
    "    new_df.columns = [col1, col2]\n",
    "    new_df.sort_values('count', ascending=False, inplace=True)\n",
    "    return new_df\n",
    "\n",
    "possible_vals = [\"24-Hour Check-in\", \"Air Conditioning\", \"Breakfast\", \"Buzzer/Wireless Intercom\", \n",
    "                 \"Cable TV\", \"Carbon Monoxide Detector\", \"Cat(s)\", \"Dog(s)\", \"Doorman\", \",Dryer\",\n",
    "                 \"Elevator in Building\", \"Essentials\", \"Family/Kid Friendly\", \"Fire Extinguisher\",\n",
    "                 \"First Aid Kit\", \"Free Parking on Premises\", \"Free Parking on Street\", \"Gym\", \"Hangers\",\n",
    "                 \"Hair Dryer\", \"Heating\", \"Hot Tub\", \"Indoor Fireplace\", \"Internet,\", \"Iron\", \"Kitchen\",\n",
    "                 \"Laptop Friendly Workspace\", \"Lock on Bedroom Door\", \"Other pet(s)\", \"Paid Parking Off Premises\",\n",
    "                 \"Pets Allowed\", \"Pets live on this property\", \"Pool\", \"Safety Card\", \"Shampoo\", \"Smoke Detector\",\n",
    "                 \"Smoking Allowed\", \"Suitable for Events\", \"TV,\", \"Washer\", \"Wheelchair Accessible\",\n",
    "                 \"Wireless Internet\"]\n",
    "\n",
    "def clean_and_plot(df, title='Amenities', plot=True):\n",
    "    '''\n",
    "    INPUT \n",
    "        df - a dataframe holding the CousinEducation column\n",
    "        title - string the title of your plot\n",
    "        axis - axis object\n",
    "        plot - bool providing whether or not you want a plot back\n",
    "        \n",
    "    OUTPUT\n",
    "        study_df - a dataframe with the count of how many individuals\n",
    "        Displays a plot of pretty things related to the CousinEducation column.\n",
    "    '''\n",
    "    study = df['amenities'].value_counts().reset_index()\n",
    "    study.rename(columns={'index': 'method', 'amenities': 'count'}, inplace=True)\n",
    "    study_df = total_count(study, 'method', 'count', possible_vals)\n",
    "\n",
    "    study_df.set_index('method', inplace=True)\n",
    "    if plot:\n",
    "        (study_df/study_df.sum()).plot(kind='bar', legend=None);\n",
    "        plt.title(title);\n",
    "        plt.show()\n",
    "    props_study_df = study_df/study_df.sum()\n",
    "    return props_study_df\n",
    "    \n",
    "props_df = clean_and_plot(df)"
   ]
  },
  {
   "cell_type": "markdown",
   "metadata": {},
   "source": [
    "### Check the distribution of the review scores rating"
   ]
  },
  {
   "cell_type": "code",
   "execution_count": 9,
   "metadata": {},
   "outputs": [
    {
     "data": {
      "text/plain": [
       "Text(0, 0.5, 'Frequency')"
      ]
     },
     "execution_count": 9,
     "metadata": {},
     "output_type": "execute_result"
    },
    {
     "data": {
      "image/png": "[encoded data removed]",
      "text/plain": [
       "<Figure size 432x288 with 1 Axes>"
      ]
     },
     "metadata": {
      "needs_background": "light"
     },
     "output_type": "display_data"
    }
   ],
   "source": [
    "# Create a histogram of the review scores rating distribution\n",
    "df['review_scores_rating'].hist(bins=100, range=(20, 100))\n",
    "plt.title(\"Distribution of review scores rating\")\n",
    "plt.xlabel('Review scores rating')\n",
    "plt.ylabel('Frequency')"
   ]
  },
  {
   "cell_type": "markdown",
   "metadata": {},
   "source": [
    "## 3. Data preparation"
   ]
  },
  {
   "cell_type": "code",
   "execution_count": 10,
   "metadata": {},
   "outputs": [],
   "source": [
    "df_prepared = df.copy() # Copy the original dataset into a new dataframe which is then changed step-by-step"
   ]
  },
  {
   "cell_type": "markdown",
   "metadata": {},
   "source": [
    "### Correction of the price column\n",
    "The price column contains unfortunately no number values but strings due to a leading \"$\" symbol and commas as 1000-seperators. Furthermore, the two decimal digits are always \"0\" and are, therefore, useless. Thus, these things are removed and the price is converted to int values. After that, the price distribution is plotted."
   ]
  },
  {
   "cell_type": "code",
   "execution_count": 11,
   "metadata": {},
   "outputs": [],
   "source": [
    "df_prepared['price'] = df_prepared['price'].map(lambda i: (i[1:])) # Remove leading \"$\"\n",
    "df_prepared['price'] = df_prepared['price'].map(lambda i: (i[:-3])) # Remove decimal values (last 3 characters)\n",
    "df_prepared['price'] = df_prepared['price'].map(lambda i: int(i.replace(\",\", \"\"))) # Remove commas and convert to int"
   ]
  },
  {
   "cell_type": "code",
   "execution_count": 12,
   "metadata": {},
   "outputs": [
    {
     "data": {
      "text/plain": [
       "Text(0, 0.5, 'Frequency')"
      ]
     },
     "execution_count": 12,
     "metadata": {},
     "output_type": "execute_result"
    },
    {
     "data": {
      "image/png": "[encoded data removed]",
      "text/plain": [
       "<Figure size 432x288 with 1 Axes>"
      ]
     },
     "metadata": {
      "needs_background": "light"
     },
     "output_type": "display_data"
    }
   ],
   "source": [
    "# Create a histogram of the price distribution\n",
    "df_prepared['price'].hist(bins=100, range=(0, 1500))\n",
    "plt.title(\"Distribution of price\")\n",
    "plt.xlabel('Price')\n",
    "plt.ylabel('Frequency')"
   ]
  },
  {
   "cell_type": "markdown",
   "metadata": {},
   "source": [
    "### Replacement of the amenities column by specific columns for each amenity\n",
    "The amenities column is tricky, since it contains strings with all types of combinations of amenities. It is replaced by specific columns with boolean values."
   ]
  },
  {
   "cell_type": "code",
   "execution_count": 13,
   "metadata": {},
   "outputs": [],
   "source": [
    "df_prepared['24HourCheckin']          =df_prepared['amenities'].map(lambda i: \"24-Hour Check-in\" in i)\n",
    "df_prepared['airConditioning']        =df_prepared['amenities'].map(lambda i: \"Air Conditioning\" in i)\n",
    "df_prepared['breakfast']              =df_prepared['amenities'].map(lambda i: \"Breakfast\" in i)\n",
    "df_prepared['buzzerWirelessIntercom'] =df_prepared['amenities'].map(lambda i: \"Buzzer/Wireless Intercom\" in i)\n",
    "df_prepared['cableTV']                =df_prepared['amenities'].map(lambda i: \"Cable TV\" in i)\n",
    "df_prepared['carbonMonoxideDetector'] =df_prepared['amenities'].map(lambda i: \"Carbon Monoxide Detector\" in i)\n",
    "df_prepared['cats']                   =df_prepared['amenities'].map(lambda i: \"Cat(s)\" in i)\n",
    "df_prepared['dogs']                   =df_prepared['amenities'].map(lambda i: \"Dog(s)\" in i)\n",
    "df_prepared['doorman']                =df_prepared['amenities'].map(lambda i: \"Doorman\" in i)\n",
    "df_prepared['dryer']                  =df_prepared['amenities'].map(lambda i: \",Dryer\" in i) # Prohibits match in \"Hair Dryer\"\n",
    "df_prepared['elevatorInBuilding']     =df_prepared['amenities'].map(lambda i: \"Elevator in Building\" in i)\n",
    "df_prepared['essentials']             =df_prepared['amenities'].map(lambda i: \"Essentials\" in i)\n",
    "df_prepared['familyKidFriendly']      =df_prepared['amenities'].map(lambda i: \"Family/Kid Friendly\" in i)\n",
    "df_prepared['fireExtinguisher']       =df_prepared['amenities'].map(lambda i: \"Fire Extinguisher\" in i)\n",
    "df_prepared['firstAidKit']            =df_prepared['amenities'].map(lambda i: \"First Aid Kit\" in i)\n",
    "df_prepared['freeParkingOnPremises']  =df_prepared['amenities'].map(lambda i: \"Free Parking on Premises\" in i)\n",
    "df_prepared['freeParkingOnStreet']    =df_prepared['amenities'].map(lambda i: \"Free Parking on Street\" in i)\n",
    "df_prepared['gym']                    =df_prepared['amenities'].map(lambda i: \"Gym\" in i)\n",
    "df_prepared['hangers']                =df_prepared['amenities'].map(lambda i: \"Hangers\" in i)\n",
    "df_prepared['hairDryer']              =df_prepared['amenities'].map(lambda i: \"Hair Dryer\" in i)\n",
    "df_prepared['heating']                =df_prepared['amenities'].map(lambda i: \"Heating\" in i)\n",
    "df_prepared['hotTub']                 =df_prepared['amenities'].map(lambda i: \"Hot Tub\" in i)\n",
    "df_prepared['indoorFireplace']        =df_prepared['amenities'].map(lambda i: \"Indoor Fireplace\" in i)\n",
    "df_prepared['internet']               =df_prepared['amenities'].map(lambda i: \"Internet,\" in i) # Prohibits match in \"Cable TV\"\n",
    "df_prepared['iron']                   =df_prepared['amenities'].map(lambda i: \"Iron\" in i)\n",
    "df_prepared['kitchen']                =df_prepared['amenities'].map(lambda i: \"Kitchen\" in i)\n",
    "df_prepared['laptopFriendlyWorkspace']=df_prepared['amenities'].map(lambda i: \"Laptop Friendly Workspace\" in i)\n",
    "df_prepared['lockOnBedroomDoor']      =df_prepared['amenities'].map(lambda i: \"Lock on Bedroom Door\" in i)\n",
    "df_prepared['otherPets']              =df_prepared['amenities'].map(lambda i: \"Other pet(s)\" in i)\n",
    "df_prepared['paidParkingOffPremises'] =df_prepared['amenities'].map(lambda i: \"Paid Parking Off Premises\" in i)\n",
    "df_prepared['petsAllowed']            =df_prepared['amenities'].map(lambda i: \"Pets Allowed\" in i)\n",
    "df_prepared['petsLiveOnThisProperty'] =df_prepared['amenities'].map(lambda i: \"Pets live on this property\" in i)\n",
    "df_prepared['pool']                   =df_prepared['amenities'].map(lambda i: \"Pool\" in i)\n",
    "df_prepared['safetyCard']             =df_prepared['amenities'].map(lambda i: \"Safety Card\" in i)\n",
    "df_prepared['shampoo']                =df_prepared['amenities'].map(lambda i: \"Shampoo\" in i)\n",
    "df_prepared['smokeDetector']          =df_prepared['amenities'].map(lambda i: \"Smoke Detector\" in i)\n",
    "df_prepared['smokingAllowed']         =df_prepared['amenities'].map(lambda i: \"Smoking Allowed\" in i)\n",
    "df_prepared['suitableForEvents']      =df_prepared['amenities'].map(lambda i: \"Suitable for Events\" in i)\n",
    "df_prepared['tV']                     =df_prepared['amenities'].map(lambda i: \"TV,\" in i) # Prohibits match in \"Cable TV\"\n",
    "df_prepared['washer']                 =df_prepared['amenities'].map(lambda i: \"Washer\" in i)\n",
    "df_prepared['wheelchairAccessible']   =df_prepared['amenities'].map(lambda i: \"Wheelchair Accessible\" in i)\n",
    "df_prepared['wirelessInternet']       =df_prepared['amenities'].map(lambda i: \"Wireless Internet\" in i)\n",
    "\n",
    "del df_prepared['amenities']\n"
   ]
  },
  {
   "cell_type": "markdown",
   "metadata": {},
   "source": [
    "### Removing or impeding rows"
   ]
  },
  {
   "cell_type": "code",
   "execution_count": 14,
   "metadata": {},
   "outputs": [
    {
     "name": "stdout",
     "output_type": "stream",
     "text": [
      "False    2772\n",
      "True      813\n",
      "Name: review_scores_rating, dtype: int64\n"
     ]
    }
   ],
   "source": [
    "print(df_prepared[\"review_scores_rating\"].isnull().value_counts()) # Check number of empty fields in review scores rating"
   ]
  },
  {
   "cell_type": "markdown",
   "metadata": {},
   "source": [
    "29% of the review scores ratings contain no value, since the corresponding accommodations got no review yet. Since the goal is to predict this column later on, the missing rows will be removed."
   ]
  },
  {
   "cell_type": "code",
   "execution_count": 15,
   "metadata": {},
   "outputs": [
    {
     "name": "stdout",
     "output_type": "stream",
     "text": [
      "The reduced dataset contains only 2772 rows.\n"
     ]
    }
   ],
   "source": [
    "df_reduced=df_prepared.dropna(subset=['review_scores_rating'], axis=0) # Remove rows with empty fields in review scores rating\n",
    "\n",
    "print('The reduced dataset contains only', df_reduced.shape[0], 'rows.')"
   ]
  },
  {
   "cell_type": "markdown",
   "metadata": {},
   "source": [
    "### Encoding categorial variables with ones and zeros\n",
    "A number of interesting variables in the dataset are categorical ones: the neighborhood (the cleansed version), the property type, the room type, and the bed type. For these ones, extra columns with ones and zeros are added which can later on be used to create a linear model to predict the scores rating. To achieve this, the function from \"Lesson 1 - Notebook + Quiz: Categorical Variables\" is applied."
   ]
  },
  {
   "cell_type": "code",
   "execution_count": 16,
   "metadata": {},
   "outputs": [
    {
     "data": {
      "text/html": [
       "<div>\n",
       "<style scoped>\n",
       "    .dataframe tbody tr th:only-of-type {\n",
       "        vertical-align: middle;\n",
       "    }\n",
       "\n",
       "    .dataframe tbody tr th {\n",
       "        vertical-align: top;\n",
       "    }\n",
       "\n",
       "    .dataframe thead th {\n",
       "        text-align: right;\n",
       "    }\n",
       "</style>\n",
       "<table border=\"1\" class=\"dataframe\">\n",
       "  <thead>\n",
       "    <tr style=\"text-align: right;\">\n",
       "      <th></th>\n",
       "      <th>neighbourhood_cleansed</th>\n",
       "      <th>property_type</th>\n",
       "      <th>room_type</th>\n",
       "    </tr>\n",
       "  </thead>\n",
       "  <tbody>\n",
       "    <tr>\n",
       "      <th>1</th>\n",
       "      <td>Roslindale</td>\n",
       "      <td>Apartment</td>\n",
       "      <td>Private room</td>\n",
       "    </tr>\n",
       "    <tr>\n",
       "      <th>2</th>\n",
       "      <td>Roslindale</td>\n",
       "      <td>Apartment</td>\n",
       "      <td>Private room</td>\n",
       "    </tr>\n",
       "    <tr>\n",
       "      <th>3</th>\n",
       "      <td>Roslindale</td>\n",
       "      <td>House</td>\n",
       "      <td>Private room</td>\n",
       "    </tr>\n",
       "    <tr>\n",
       "      <th>4</th>\n",
       "      <td>Roslindale</td>\n",
       "      <td>House</td>\n",
       "      <td>Private room</td>\n",
       "    </tr>\n",
       "    <tr>\n",
       "      <th>5</th>\n",
       "      <td>Roslindale</td>\n",
       "      <td>Condominium</td>\n",
       "      <td>Private room</td>\n",
       "    </tr>\n",
       "  </tbody>\n",
       "</table>\n",
       "</div>"
      ],
      "text/plain": [
       "  neighbourhood_cleansed property_type     room_type\n",
       "1             Roslindale     Apartment  Private room\n",
       "2             Roslindale     Apartment  Private room\n",
       "3             Roslindale         House  Private room\n",
       "4             Roslindale         House  Private room\n",
       "5             Roslindale   Condominium  Private room"
      ]
     },
     "execution_count": 16,
     "metadata": {},
     "output_type": "execute_result"
    }
   ],
   "source": [
    "cat_df = df_reduced[['neighbourhood_cleansed', 'property_type', 'room_type']] # Create a DataFrame with 3 categorical columns\n",
    "cat_df.head()"
   ]
  },
  {
   "cell_type": "code",
   "execution_count": 17,
   "metadata": {},
   "outputs": [],
   "source": [
    "def create_dummy_df(df, cat_cols, dummy_na):\n",
    "    '''\n",
    "    INPUT:\n",
    "    df - pandas dataframe with categorical variables you want to dummy\n",
    "    cat_cols - list of strings that are associated with names of the categorical columns\n",
    "    dummy_na - Bool holding whether you want to dummy NA vals of categorical columns or not\n",
    "    \n",
    "    OUTPUT:\n",
    "    df - a new dataframe that has the following characteristics:\n",
    "            1. contains all columns that were not specified as categorical\n",
    "            2. removes all the original columns in cat_cols\n",
    "            3. dummy columns for each of the categorical columns in cat_cols\n",
    "            4. if dummy_na is True - it also contains dummy columns for the NaN values\n",
    "            5. Use a prefix of the column name with an underscore (_) for separating \n",
    "    '''\n",
    "    for col in  cat_cols:\n",
    "        try:\n",
    "            # for each cat add dummy var, drop original column\n",
    "            df = pd.concat([df.drop(col, axis=1), pd.get_dummies(df[col], prefix=col, prefix_sep='_', drop_first=True, dummy_na=dummy_na)], axis=1)\n",
    "        except:\n",
    "            continue\n",
    "    return df"
   ]
  },
  {
   "cell_type": "code",
   "execution_count": 18,
   "metadata": {
    "scrolled": false
   },
   "outputs": [],
   "source": [
    "#Pull a list of the column names of the categorical variables\n",
    "cat_cols_lst = cat_df.columns\n",
    "\n",
    "# Replace the categorical columns by dummy columns (ones and zeros) by using the function create_dummy_df\n",
    "df_reduced_with_dummies = create_dummy_df(df_reduced, cat_cols_lst, dummy_na=False)"
   ]
  },
  {
   "cell_type": "markdown",
   "metadata": {},
   "source": [
    "# 4. Modelling & Evaluation"
   ]
  },
  {
   "cell_type": "markdown",
   "metadata": {},
   "source": [
    "### Question 1: Is there correlation between price and ratings?"
   ]
  },
  {
   "cell_type": "code",
   "execution_count": 19,
   "metadata": {
    "scrolled": true
   },
   "outputs": [
    {
     "name": "stdout",
     "output_type": "stream",
     "text": [
      "Pearson correlation coefficient:\n",
      "0.1056505948227876\n"
     ]
    },
    {
     "data": {
      "image/png": "[encoded data removed]",
      "text/plain": [
       "<Figure size 432x288 with 1 Axes>"
      ]
     },
     "metadata": {
      "needs_background": "light"
     },
     "output_type": "display_data"
    }
   ],
   "source": [
    "# Create a scatterplot for price vs review scores rating\n",
    "df_reduced.plot.scatter(x='price', y='review_scores_rating')\n",
    "plt.title(\"Scatterplot\")\n",
    "print('Pearson correlation coefficient:')\n",
    "print(df_reduced['price'].corr(df_reduced['review_scores_rating']))"
   ]
  },
  {
   "cell_type": "markdown",
   "metadata": {},
   "source": [
    "There seems to be a slight correleation between price and rating.\n",
    "\n",
    "### Question 2: Are there differences in price and review scores rating between different neighbourhoods?"
   ]
  },
  {
   "cell_type": "code",
   "execution_count": 20,
   "metadata": {},
   "outputs": [
    {
     "data": {
      "text/html": [
       "<div>\n",
       "<style scoped>\n",
       "    .dataframe tbody tr th:only-of-type {\n",
       "        vertical-align: middle;\n",
       "    }\n",
       "\n",
       "    .dataframe tbody tr th {\n",
       "        vertical-align: top;\n",
       "    }\n",
       "\n",
       "    .dataframe thead th {\n",
       "        text-align: right;\n",
       "    }\n",
       "</style>\n",
       "<table border=\"1\" class=\"dataframe\">\n",
       "  <thead>\n",
       "    <tr style=\"text-align: right;\">\n",
       "      <th></th>\n",
       "      <th>price</th>\n",
       "      <th>review_scores_rating</th>\n",
       "    </tr>\n",
       "    <tr>\n",
       "      <th>neighbourhood_cleansed</th>\n",
       "      <th></th>\n",
       "      <th></th>\n",
       "    </tr>\n",
       "  </thead>\n",
       "  <tbody>\n",
       "    <tr>\n",
       "      <th>South Boston Waterfront</th>\n",
       "      <td>263.810345</td>\n",
       "      <td>94.431034</td>\n",
       "    </tr>\n",
       "    <tr>\n",
       "      <th>Bay Village</th>\n",
       "      <td>250.875000</td>\n",
       "      <td>93.000000</td>\n",
       "    </tr>\n",
       "    <tr>\n",
       "      <th>Leather District</th>\n",
       "      <td>242.666667</td>\n",
       "      <td>98.333333</td>\n",
       "    </tr>\n",
       "    <tr>\n",
       "      <th>Chinatown</th>\n",
       "      <td>239.195122</td>\n",
       "      <td>92.121951</td>\n",
       "    </tr>\n",
       "    <tr>\n",
       "      <th>Back Bay</th>\n",
       "      <td>237.164557</td>\n",
       "      <td>91.531646</td>\n",
       "    </tr>\n",
       "  </tbody>\n",
       "</table>\n",
       "</div>"
      ],
      "text/plain": [
       "                              price  review_scores_rating\n",
       "neighbourhood_cleansed                                   \n",
       "South Boston Waterfront  263.810345             94.431034\n",
       "Bay Village              250.875000             93.000000\n",
       "Leather District         242.666667             98.333333\n",
       "Chinatown                239.195122             92.121951\n",
       "Back Bay                 237.164557             91.531646"
      ]
     },
     "execution_count": 20,
     "metadata": {},
     "output_type": "execute_result"
    }
   ],
   "source": [
    "# Group neighbourhoods and calculate their mean price and review scores rating\n",
    "df_neighbourhood_relations=pd.DataFrame()\n",
    "df_neighbourhood_relations['price']=df_reduced.groupby('neighbourhood_cleansed').mean()['price'].sort_values(ascending=False)\n",
    "df_neighbourhood_relations['review_scores_rating']=df_reduced.groupby('neighbourhood_cleansed').mean()['review_scores_rating'].sort_values(ascending=False)\n",
    "df_neighbourhood_relations.head()"
   ]
  },
  {
   "cell_type": "code",
   "execution_count": 21,
   "metadata": {},
   "outputs": [
    {
     "name": "stdout",
     "output_type": "stream",
     "text": [
      "Pearson correlation coefficient:\n",
      "0.3176659073286343\n"
     ]
    },
    {
     "data": {
      "image/png": "[encoded data removed]",
      "text/plain": [
       "<Figure size 432x288 with 1 Axes>"
      ]
     },
     "metadata": {
      "needs_background": "light"
     },
     "output_type": "display_data"
    }
   ],
   "source": [
    "# Create a scatterplot for price vs review scores rating based on previously calculated means for neighbourhoods\n",
    "df_neighbourhood_relations.plot.scatter(x='price', y='review_scores_rating')\n",
    "plt.title(\"Scatterplot\")\n",
    "print('Pearson correlation coefficient:')\n",
    "print(df_neighbourhood_relations['price'].corr(df_neighbourhood_relations['review_scores_rating']))"
   ]
  },
  {
   "cell_type": "markdown",
   "metadata": {},
   "source": [
    "It is not analyzed in more detail here, but it seems that neighbourhoods with a higher rating also have a higher mean price and vice versa."
   ]
  },
  {
   "cell_type": "markdown",
   "metadata": {},
   "source": [
    "### Question 3: Is there correlation between the number of reviews and the review scores rating?"
   ]
  },
  {
   "cell_type": "code",
   "execution_count": 22,
   "metadata": {},
   "outputs": [
    {
     "name": "stdout",
     "output_type": "stream",
     "text": [
      "Pearson correlation coefficient:\n",
      "0.02277785222784338\n"
     ]
    },
    {
     "data": {
      "image/png": "[encoded data removed]",
      "text/plain": [
       "<Figure size 432x288 with 1 Axes>"
      ]
     },
     "metadata": {
      "needs_background": "light"
     },
     "output_type": "display_data"
    }
   ],
   "source": [
    "# Create a scatterplot for number of reviews vs review scores rating\n",
    "df_reduced.plot.scatter(x='number_of_reviews', y='review_scores_rating')\n",
    "plt.title(\"Scatterplot\")\n",
    "print('Pearson correlation coefficient:')\n",
    "print(df_reduced['review_scores_rating'].corr(df_reduced['number_of_reviews']))"
   ]
  },
  {
   "cell_type": "markdown",
   "metadata": {},
   "source": [
    "The scatterplot shows an interesting pattern, however, the correlation coefficient not indicates a relation between the two measures.\n",
    "\n",
    "### Question 4: Is there a relation between amenities and rating?\n",
    "\n",
    "In the next step, a linear model is build based on the new amenities columns with the goal to predict the review scores rating."
   ]
  },
  {
   "cell_type": "code",
   "execution_count": 23,
   "metadata": {},
   "outputs": [
    {
     "name": "stdout",
     "output_type": "stream",
     "text": [
      "The R^2 value is: 0.027724779654798914\n"
     ]
    }
   ],
   "source": [
    "# Consider only amenity variables\n",
    "X = df_reduced[['24HourCheckin', 'airConditioning', 'breakfast', 'buzzerWirelessIntercom', 'cableTV', \n",
    "                'carbonMonoxideDetector', 'cats', 'dogs', 'doorman', 'dryer', 'elevatorInBuilding',\n",
    "                'essentials', 'familyKidFriendly', 'fireExtinguisher', 'firstAidKit', 'freeParkingOnPremises',\n",
    "                'freeParkingOnStreet', 'gym', 'hangers', 'hairDryer', 'heating', 'hotTub', 'indoorFireplace',\n",
    "                'internet', 'iron', 'kitchen', 'laptopFriendlyWorkspace', 'lockOnBedroomDoor', 'otherPets',\n",
    "                'paidParkingOffPremises', 'petsAllowed', 'petsLiveOnThisProperty', 'pool', 'safetyCard',\n",
    "                'shampoo', 'smokeDetector', 'smokingAllowed', 'suitableForEvents', 'tV', 'washer',\n",
    "                'wheelchairAccessible', 'wirelessInternet']]\n",
    "y = df_reduced['review_scores_rating']\n",
    "\n",
    "X_train, X_test, y_train, y_test = train_test_split(X, y, test_size = .30, random_state=42)\n",
    "\n",
    "#Instantiate\n",
    "lm_model = LinearRegression(normalize=True) \n",
    "\n",
    "#Fit\n",
    "lm_model.fit(X_train, y_train) \n",
    "\n",
    "#Predict\n",
    "y_test_preds = lm_model.predict(X_test)\n",
    "\n",
    "# Rsquared here for comparing test and preds from model\n",
    "r2_test =  r2_score(y_test, y_test_preds)\n",
    "\n",
    "# Print r2 to see result on test data\n",
    "print('The R^2 value is:', r2_test)"
   ]
  },
  {
   "cell_type": "markdown",
   "metadata": {},
   "source": [
    "Now the coefficients of the model are listed. However, since the correlation is weak, there seems to be no deeper meaning behind the values."
   ]
  },
  {
   "cell_type": "code",
   "execution_count": 24,
   "metadata": {},
   "outputs": [
    {
     "name": "stdout",
     "output_type": "stream",
     "text": [
      "24HourCheckin : -0.340121047954179\n",
      "airConditioning : 2.7317876062824884\n",
      "breakfast : 1.3042176274479924\n",
      "buzzerWirelessIntercom : -0.21038729129751121\n",
      "cableTV : 0.4204153034957165\n",
      "carbonMonoxideDetector : 0.6443822389804092\n",
      "cats : -0.3133495178777601\n",
      "dogs : 0.22930724138266922\n",
      "doorman : 2.190397499365159\n",
      "dryer : -1.5140851827550923\n",
      "elevatorInBuilding : 0.9935627333454234\n",
      "essentials : 1.58600568194622\n",
      "familyKidFriendly : -0.9531499976138134\n",
      "fireExtinguisher : 1.211068584706747\n",
      "firstAidKit : 0.5802201174048289\n",
      "freeParkingOnPremises : 0.6288871207631401\n",
      "freeParkingOnStreet : -1.7908374457306395\n",
      "gym : -2.4604631630812253\n",
      "hangers : 0.4097147576601878\n",
      "hairDryer : 0.26680120795864154\n",
      "heating : 0.5456413467563991\n",
      "hotTub : -1.8489787203631416\n",
      "indoorFireplace : 0.8199489494794266\n",
      "internet : -0.7031957480463981\n",
      "iron : 0.013887505576841064\n",
      "kitchen : -1.7216076334167185\n",
      "laptopFriendlyWorkspace : 0.6485579584285656\n",
      "lockOnBedroomDoor : -0.3371040656833359\n",
      "otherPets : 0.6796447307018015\n",
      "paidParkingOffPremises : 0.9739548122853441\n",
      "petsAllowed : 0.0684009773660748\n",
      "petsLiveOnThisProperty : 1.1026943804261686\n",
      "pool : -2.984681825688092\n",
      "safetyCard : -0.04987429163930423\n",
      "shampoo : 1.0222618524164244\n",
      "smokeDetector : 1.115993913241218\n",
      "smokingAllowed : -3.519837401650344\n",
      "suitableForEvents : 1.2848359548978519\n",
      "tV : 0.5940910296371631\n",
      "washer : 3.188477714054019\n",
      "wheelchairAccessible : 0.7055989144332236\n",
      "wirelessInternet : 4.81098415589239\n"
     ]
    }
   ],
   "source": [
    "for i in range(0, len(X.columns)):\n",
    "    print(X.columns[i], \":\", lm_model.coef_[i])"
   ]
  },
  {
   "cell_type": "markdown",
   "metadata": {},
   "source": [
    "### Question 5: Is there a way to predict the review scores rating based on amenities and price?\n",
    "\n",
    "Now, also the price column is added to build the model (since question 1 and 2 showed slight correlation of price with review scores rating, the price has been added)."
   ]
  },
  {
   "cell_type": "code",
   "execution_count": 25,
   "metadata": {},
   "outputs": [
    {
     "name": "stdout",
     "output_type": "stream",
     "text": [
      "The R^2 value is: 0.028457249334719603\n"
     ]
    }
   ],
   "source": [
    "# Consider only amenity variables and price\n",
    "X = df_reduced[['price', '24HourCheckin', 'airConditioning', 'breakfast', 'buzzerWirelessIntercom', 'cableTV', \n",
    "                'carbonMonoxideDetector', 'cats', 'dogs', 'doorman', 'dryer', 'elevatorInBuilding',\n",
    "                'essentials', 'familyKidFriendly', 'fireExtinguisher', 'firstAidKit', 'freeParkingOnPremises',\n",
    "                'freeParkingOnStreet', 'gym', 'hangers', 'hairDryer', 'heating', 'hotTub', 'indoorFireplace',\n",
    "                'internet', 'iron', 'kitchen', 'laptopFriendlyWorkspace', 'lockOnBedroomDoor', 'otherPets',\n",
    "                'paidParkingOffPremises', 'petsAllowed', 'petsLiveOnThisProperty', 'pool', 'safetyCard',\n",
    "                'shampoo', 'smokeDetector', 'smokingAllowed', 'suitableForEvents', 'tV', 'washer',\n",
    "                'wheelchairAccessible', 'wirelessInternet']]\n",
    "y = df_reduced['review_scores_rating']\n",
    "\n",
    "X_train, X_test, y_train, y_test = train_test_split(X, y, test_size = .30, random_state=42)\n",
    "\n",
    "#Instantiate\n",
    "lm_model = LinearRegression(normalize=True) \n",
    "\n",
    "#Fit\n",
    "lm_model.fit(X_train, y_train) \n",
    "\n",
    "#Predict\n",
    "y_test_preds = lm_model.predict(X_test)\n",
    "\n",
    "# Rsquared here for comparing test and preds from model\n",
    "r2_test =  r2_score(y_test, y_test_preds)\n",
    "\n",
    "# Print r2 to see result on test data\n",
    "print('The R^2 value is:', r2_test)"
   ]
  },
  {
   "cell_type": "markdown",
   "metadata": {},
   "source": [
    "In the next step a function from the file AllTogether.py from the Lesson 1 materials is applied to create subsets with different number of features to create a similar plot as in \"Lesson 1 - Notebook + Quiz: Putting It All Together\"."
   ]
  },
  {
   "cell_type": "code",
   "execution_count": 26,
   "metadata": {},
   "outputs": [],
   "source": [
    "def find_optimal_lm_mod(X, y, cutoffs, test_size = .30, random_state=42, plot=True):\n",
    "    '''\n",
    "    INPUT\n",
    "    X - pandas dataframe, X matrix\n",
    "    y - pandas dataframe, response variable\n",
    "    cutoffs - list of ints, cutoff for number of non-zero values in dummy categorical vars\n",
    "    test_size - float between 0 and 1, default 0.3, determines the proportion of data as test data\n",
    "    random_state - int, default 42, controls random state for train_test_split\n",
    "    plot - boolean, default 0.3, True to plot result\n",
    "\n",
    "    OUTPUT\n",
    "    r2_scores_test - list of floats of r2 scores on the test data\n",
    "    r2_scores_train - list of floats of r2 scores on the train data\n",
    "    lm_model - model object from sklearn\n",
    "    X_train, X_test, y_train, y_test - output from sklearn train test split used for optimal model\n",
    "    '''\n",
    "    r2_scores_test, r2_scores_train, num_feats, results = [], [], [], dict()\n",
    "    for cutoff in cutoffs:\n",
    "\n",
    "        #reduce X matrix\n",
    "        reduce_X = X.iloc[:, np.where((X.sum() > cutoff) == True)[0]]\n",
    "        num_feats.append(reduce_X.shape[1])\n",
    "\n",
    "        #split the data into train and test\n",
    "        X_train, X_test, y_train, y_test = train_test_split(reduce_X, y, test_size = test_size, random_state=random_state)\n",
    "\n",
    "        #fit the model and obtain pred response\n",
    "        lm_model = LinearRegression(normalize=True)\n",
    "        lm_model.fit(X_train, y_train)\n",
    "        y_test_preds = lm_model.predict(X_test)\n",
    "        y_train_preds = lm_model.predict(X_train)\n",
    "\n",
    "        #append the r2 value from the test set\n",
    "        r2_scores_test.append(r2_score(y_test, y_test_preds))\n",
    "        r2_scores_train.append(r2_score(y_train, y_train_preds))\n",
    "        results[str(cutoff)] = r2_score(y_test, y_test_preds)\n",
    "\n",
    "    if plot:\n",
    "        plt.plot(num_feats, r2_scores_test, label=\"Test\", alpha=.5)\n",
    "        plt.plot(num_feats, r2_scores_train, label=\"Train\", alpha=.5)\n",
    "        plt.xlabel('Number of Features')\n",
    "        plt.ylabel('Rsquared')\n",
    "        plt.title('Rsquared by Number of Features')\n",
    "        plt.legend(loc=1)\n",
    "        plt.show()\n",
    "\n",
    "    best_cutoff = max(results, key=results.get)\n",
    "\n",
    "    #reduce X matrix\n",
    "    reduce_X = X.iloc[:, np.where((X.sum() > int(best_cutoff)) == True)[0]]\n",
    "    num_feats.append(reduce_X.shape[1])\n",
    "\n",
    "    #split the data into train and test\n",
    "    X_train, X_test, y_train, y_test = train_test_split(reduce_X, y, test_size = test_size, random_state=random_state)\n",
    "\n",
    "    #fit the model\n",
    "    lm_model = LinearRegression(normalize=True)\n",
    "    lm_model.fit(X_train, y_train)\n",
    "\n",
    "    return r2_scores_test, r2_scores_train, lm_model, X_train, X_test, y_train, y_test"
   ]
  },
  {
   "cell_type": "code",
   "execution_count": 27,
   "metadata": {
    "scrolled": true
   },
   "outputs": [
    {
     "data": {
      "image/png": "[encoded data removed]",
      "text/plain": [
       "<Figure size 432x288 with 1 Axes>"
      ]
     },
     "metadata": {
      "needs_background": "light"
     },
     "output_type": "display_data"
    }
   ],
   "source": [
    "#cutoffs here pertains to the number of missing values allowed in the used columns.\n",
    "#Therefore, lower values for the cutoff provides more predictors in the model.\n",
    "cutoffs = [5000, 3500, 2500, 1000, 100, 50, 30, 25]\n",
    "\n",
    "r2_scores_test, r2_scores_train, lm_model, X_train, X_test, y_train, y_test = find_optimal_lm_mod(X, y, cutoffs)"
   ]
  },
  {
   "cell_type": "markdown",
   "metadata": {},
   "source": [
    "The result is weak. It seems to be not useful to predict the review scores rating based on price and amenities.\n",
    "\n",
    "### For comparison: Predict the price based on amenities and review scores rating"
   ]
  },
  {
   "cell_type": "code",
   "execution_count": 28,
   "metadata": {},
   "outputs": [
    {
     "name": "stdout",
     "output_type": "stream",
     "text": [
      "The R^2 value is: 0.2743361634339214\n"
     ]
    }
   ],
   "source": [
    "# Consider only amenity variables and price\n",
    "X = df_reduced[['review_scores_rating', '24HourCheckin', 'airConditioning', 'breakfast', 'buzzerWirelessIntercom', 'cableTV', \n",
    "                'carbonMonoxideDetector', 'cats', 'dogs', 'doorman', 'dryer', 'elevatorInBuilding',\n",
    "                'essentials', 'familyKidFriendly', 'fireExtinguisher', 'firstAidKit', 'freeParkingOnPremises',\n",
    "                'freeParkingOnStreet', 'gym', 'hangers', 'hairDryer', 'heating', 'hotTub', 'indoorFireplace',\n",
    "                'internet', 'iron', 'kitchen', 'laptopFriendlyWorkspace', 'lockOnBedroomDoor', 'otherPets',\n",
    "                'paidParkingOffPremises', 'petsAllowed', 'petsLiveOnThisProperty', 'pool', 'safetyCard',\n",
    "                'shampoo', 'smokeDetector', 'smokingAllowed', 'suitableForEvents', 'tV', 'washer',\n",
    "                'wheelchairAccessible', 'wirelessInternet']]\n",
    "y = df_reduced['price']\n",
    "\n",
    "X_train, X_test, y_train, y_test = train_test_split(X, y, test_size = .30, random_state=42)\n",
    "\n",
    "#Instantiate\n",
    "lm_model = LinearRegression(normalize=True) \n",
    "\n",
    "#Fit\n",
    "lm_model.fit(X_train, y_train) \n",
    "\n",
    "#Predict\n",
    "y_test_preds = lm_model.predict(X_test)\n",
    "\n",
    "# Rsquared here for comparing test and preds from model\n",
    "r2_test =  r2_score(y_test, y_test_preds)\n",
    "\n",
    "# Print r2 to see result on test data\n",
    "print('The R^2 value is:', r2_test)"
   ]
  },
  {
   "cell_type": "code",
   "execution_count": 29,
   "metadata": {},
   "outputs": [
    {
     "data": {
      "image/png": "[encoded data removed]",
      "text/plain": [
       "<Figure size 432x288 with 1 Axes>"
      ]
     },
     "metadata": {
      "needs_background": "light"
     },
     "output_type": "display_data"
    }
   ],
   "source": [
    "#cutoffs here pertains to the number of missing values allowed in the used columns.\n",
    "#Therefore, lower values for the cutoff provides more predictors in the model.\n",
    "cutoffs = [5000, 3500, 2500, 1000, 100, 50, 30, 25]\n",
    "\n",
    "r2_scores_test, r2_scores_train, lm_model, X_train, X_test, y_train, y_test = find_optimal_lm_mod(X, y, cutoffs)"
   ]
  },
  {
   "cell_type": "markdown",
   "metadata": {},
   "source": [
    "After exchanging price and review scores rating in order to predict the price by review scores rating and amenities, the results are much better also for the test data. Thus, it shows that the general approach works. In some terms, the price can be predicted. However, regarding the question above, the result is negative.\n",
    "\n",
    "A more detailled discussion can be found in my corresponding [blog post](https://mirods.github.io)."
   ]
  }
 ],
 "metadata": {
  "anaconda-cloud": {},
  "kernelspec": {
   "display_name": "Python 3",
   "language": "python",
   "name": "python3"
  },
  "language_info": {
   "codemirror_mode": {
    "name": "ipython",
    "version": 3
   },
   "file_extension": ".py",
   "mimetype": "text/x-python",
   "name": "python",
   "nbconvert_exporter": "python",
   "pygments_lexer": "ipython3",
   "version": "3.7.3"
  }
 },
 "nbformat": 4,
 "nbformat_minor": 2
}
